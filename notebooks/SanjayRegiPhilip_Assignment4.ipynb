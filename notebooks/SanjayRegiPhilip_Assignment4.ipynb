{
 "cells": [
  {
   "cell_type": "markdown",
   "id": "8fbfbfc8",
   "metadata": {},
   "source": [
    "**Package Import and Data Download**"
   ]
  },
  {
   "cell_type": "code",
   "execution_count": 36,
   "id": "040be1e0",
   "metadata": {},
   "outputs": [],
   "source": [
    "import pandas as pd\n",
    "import math\n",
    "import numpy as np\n",
    "import matplotlib.pylab as plt\n",
    "import scikitplot as skplt\n",
    "\n",
    "from sklearn import tree\n",
    "from sklearn.tree import DecisionTreeClassifier\n",
    "from sklearn.ensemble import RandomForestClassifier, GradientBoostingClassifier \n",
    "from sklearn.model_selection import train_test_split, cross_val_score, GridSearchCV\n",
    "from sklearn.linear_model import LogisticRegression, LogisticRegressionCV\n",
    "from sklearn.preprocessing import OneHotEncoder, MinMaxScaler\n",
    "from sklearn.compose import make_column_transformer\n",
    "from sklearn.neural_network import MLPClassifier\n",
    "from sklearn.metrics import precision_recall_fscore_support, f1_score, precision_score, recall_score, roc_curve, auc\n",
    "from sklearn.metrics.pairwise import haversine_distances\n",
    "\n",
    "\n",
    "from dmba import regressionSummary, AIC_score, stepwise_selection, gainsChart, liftChart, classificationSummary, plotDecisionTree\n",
    "from datetime import datetime\n",
    "\n",
    "%matplotlib inline"
   ]
  },
  {
   "cell_type": "code",
   "execution_count": 37,
   "id": "97321450",
   "metadata": {},
   "outputs": [
    {
     "data": {
      "text/html": [
       "<div>\n",
       "<style scoped>\n",
       "    .dataframe tbody tr th:only-of-type {\n",
       "        vertical-align: middle;\n",
       "    }\n",
       "\n",
       "    .dataframe tbody tr th {\n",
       "        vertical-align: top;\n",
       "    }\n",
       "\n",
       "    .dataframe thead th {\n",
       "        text-align: right;\n",
       "    }\n",
       "</style>\n",
       "<table border=\"1\" class=\"dataframe\">\n",
       "  <thead>\n",
       "    <tr style=\"text-align: right;\">\n",
       "      <th></th>\n",
       "      <th>zipconvert_2</th>\n",
       "      <th>zipconvert_3</th>\n",
       "      <th>zipconvert_4</th>\n",
       "      <th>zipconvert_5</th>\n",
       "      <th>homeowner dummy</th>\n",
       "      <th>NUMCHLD</th>\n",
       "      <th>INCOME</th>\n",
       "      <th>gender dummy</th>\n",
       "      <th>WEALTH</th>\n",
       "      <th>HV</th>\n",
       "      <th>...</th>\n",
       "      <th>IC15</th>\n",
       "      <th>NUMPROM</th>\n",
       "      <th>RAMNTALL</th>\n",
       "      <th>MAXRAMNT</th>\n",
       "      <th>LASTGIFT</th>\n",
       "      <th>totalmonths</th>\n",
       "      <th>TIMELAG</th>\n",
       "      <th>AVGGIFT</th>\n",
       "      <th>TARGET_B</th>\n",
       "      <th>TARGET_D</th>\n",
       "    </tr>\n",
       "  </thead>\n",
       "  <tbody>\n",
       "    <tr>\n",
       "      <th>0</th>\n",
       "      <td>0</td>\n",
       "      <td>1</td>\n",
       "      <td>0</td>\n",
       "      <td>0</td>\n",
       "      <td>1</td>\n",
       "      <td>1</td>\n",
       "      <td>5</td>\n",
       "      <td>1</td>\n",
       "      <td>9</td>\n",
       "      <td>1399</td>\n",
       "      <td>...</td>\n",
       "      <td>1</td>\n",
       "      <td>74</td>\n",
       "      <td>102.0</td>\n",
       "      <td>6.0</td>\n",
       "      <td>5.0</td>\n",
       "      <td>29</td>\n",
       "      <td>3</td>\n",
       "      <td>4.857143</td>\n",
       "      <td>1</td>\n",
       "      <td>5.0</td>\n",
       "    </tr>\n",
       "    <tr>\n",
       "      <th>1</th>\n",
       "      <td>1</td>\n",
       "      <td>0</td>\n",
       "      <td>0</td>\n",
       "      <td>0</td>\n",
       "      <td>1</td>\n",
       "      <td>1</td>\n",
       "      <td>1</td>\n",
       "      <td>0</td>\n",
       "      <td>7</td>\n",
       "      <td>698</td>\n",
       "      <td>...</td>\n",
       "      <td>4</td>\n",
       "      <td>46</td>\n",
       "      <td>94.0</td>\n",
       "      <td>12.0</td>\n",
       "      <td>12.0</td>\n",
       "      <td>34</td>\n",
       "      <td>6</td>\n",
       "      <td>9.400000</td>\n",
       "      <td>1</td>\n",
       "      <td>10.0</td>\n",
       "    </tr>\n",
       "    <tr>\n",
       "      <th>2</th>\n",
       "      <td>0</td>\n",
       "      <td>0</td>\n",
       "      <td>0</td>\n",
       "      <td>1</td>\n",
       "      <td>0</td>\n",
       "      <td>2</td>\n",
       "      <td>5</td>\n",
       "      <td>1</td>\n",
       "      <td>8</td>\n",
       "      <td>828</td>\n",
       "      <td>...</td>\n",
       "      <td>13</td>\n",
       "      <td>32</td>\n",
       "      <td>30.0</td>\n",
       "      <td>10.0</td>\n",
       "      <td>5.0</td>\n",
       "      <td>29</td>\n",
       "      <td>7</td>\n",
       "      <td>4.285714</td>\n",
       "      <td>1</td>\n",
       "      <td>5.0</td>\n",
       "    </tr>\n",
       "  </tbody>\n",
       "</table>\n",
       "<p>3 rows × 22 columns</p>\n",
       "</div>"
      ],
      "text/plain": [
       "   zipconvert_2  zipconvert_3  zipconvert_4  zipconvert_5  homeowner dummy  \\\n",
       "0             0             1             0             0                1   \n",
       "1             1             0             0             0                1   \n",
       "2             0             0             0             1                0   \n",
       "\n",
       "   NUMCHLD  INCOME  gender dummy  WEALTH    HV  ...  IC15  NUMPROM  RAMNTALL  \\\n",
       "0        1       5             1       9  1399  ...     1       74     102.0   \n",
       "1        1       1             0       7   698  ...     4       46      94.0   \n",
       "2        2       5             1       8   828  ...    13       32      30.0   \n",
       "\n",
       "   MAXRAMNT  LASTGIFT  totalmonths  TIMELAG   AVGGIFT  TARGET_B  TARGET_D  \n",
       "0       6.0       5.0           29        3  4.857143         1       5.0  \n",
       "1      12.0      12.0           34        6  9.400000         1      10.0  \n",
       "2      10.0       5.0           29        7  4.285714         1       5.0  \n",
       "\n",
       "[3 rows x 22 columns]"
      ]
     },
     "execution_count": 37,
     "metadata": {},
     "output_type": "execute_result"
    }
   ],
   "source": [
    "fundraise = pd.read_csv(\"/Users/sanjayregiphilip/OneDrive/DS/ADS505/Module4/Fundraising.csv\")\n",
    "fundraise = fundraise.drop(columns=['Row Id','Row Id.'])\n",
    "\n",
    "fundraise.head(3)"
   ]
  },
  {
   "cell_type": "markdown",
   "id": "89c3d65c",
   "metadata": {},
   "source": [
    "# Question 1 \n",
    "**Data preparation: Load the data and prepare it for predictive analysis.**\n",
    "\n",
    "\n",
    "## 1.1 Partition the dataset into 60% training and 40% validation (set the seed to 12345)."
   ]
  },
  {
   "cell_type": "markdown",
   "id": "7d8acc26",
   "metadata": {},
   "source": [
    "**Train Test Split**"
   ]
  },
  {
   "cell_type": "code",
   "execution_count": 38,
   "id": "4ac8a2d5",
   "metadata": {},
   "outputs": [],
   "source": [
    "trainData, testData = train_test_split(fundraise, test_size=0.4, random_state=12345)"
   ]
  },
  {
   "cell_type": "code",
   "execution_count": 39,
   "id": "e81955c5",
   "metadata": {},
   "outputs": [
    {
     "name": "stdout",
     "output_type": "stream",
     "text": [
      "Train data shape (1872, 22)\n",
      "Validation data shape (1248, 22)\n"
     ]
    }
   ],
   "source": [
    "print(\"Train data shape\", trainData.shape)\n",
    "print(\"Validation data shape\", testData.shape)"
   ]
  },
  {
   "cell_type": "markdown",
   "id": "04487343",
   "metadata": {},
   "source": [
    "# Question 2 \n",
    "**Model Building: Follow the following steps to build, evaluate, and choose a model.**"
   ]
  },
  {
   "cell_type": "markdown",
   "id": "c9a136e0",
   "metadata": {},
   "source": [
    "## 2.1. Select classification tool and parameters: Run at least two classification models of your choosing. Be sure NOT to use TARGET_D in your analysis. Describe the two models that you chose, with sufficient detail (method, parameters, variables, etc.) so that it can be replicated."
   ]
  },
  {
   "cell_type": "code",
   "execution_count": 40,
   "id": "730da6a4",
   "metadata": {},
   "outputs": [],
   "source": [
    "## Remove TARGET_D\n",
    "trainData = trainData.drop(columns=['TARGET_D'])\n",
    "testData = testData.drop(columns=['TARGET_D'])"
   ]
  },
  {
   "cell_type": "code",
   "execution_count": 41,
   "id": "dc8bb486",
   "metadata": {},
   "outputs": [],
   "source": [
    "## Split Predictors from Response Variable\n",
    "trainX = trainData.drop(columns=['TARGET_B'])\n",
    "trainY = trainData['TARGET_B']\n",
    "\n",
    "testX = testData.drop(columns=['TARGET_B'])\n",
    "testY = testData['TARGET_B']"
   ]
  },
  {
   "cell_type": "markdown",
   "id": "c001386e",
   "metadata": {},
   "source": [
    "**Logistic Regression**"
   ]
  },
  {
   "cell_type": "code",
   "execution_count": 42,
   "id": "f1fe6440",
   "metadata": {},
   "outputs": [
    {
     "name": "stdout",
     "output_type": "stream",
     "text": [
      "Confusion Matrix (Accuracy 0.5673)\n",
      "\n",
      "       Prediction\n",
      "Actual   0   1\n",
      "     0 521 401\n",
      "     1 409 541\n"
     ]
    }
   ],
   "source": [
    "## Create and Train Logistic Regression using training data\n",
    "# Used hyperparameters to ensure penalty for wrong predictions would be included\n",
    "logit_fund = LogisticRegression(penalty=\"l2\", solver='liblinear', class_weight = \"balanced\")\n",
    "logit_fund.fit(trainX, trainY)\n",
    "\n",
    "## find initial results of the training predictions\n",
    "classificationSummary(trainY, logit_fund.predict(trainX))"
   ]
  },
  {
   "cell_type": "markdown",
   "id": "bf6a3070",
   "metadata": {},
   "source": [
    "**Decision Tree**"
   ]
  },
  {
   "cell_type": "code",
   "execution_count": 43,
   "id": "602460cb",
   "metadata": {},
   "outputs": [
    {
     "name": "stdout",
     "output_type": "stream",
     "text": [
      "Confusion Matrix (Accuracy 0.5855)\n",
      "\n",
      "       Prediction\n",
      "Actual   0   1\n",
      "     0 647 275\n",
      "     1 501 449\n"
     ]
    },
    {
     "data": {
      "image/png": "[encoded data removed]",
      "text/plain": [
       "<IPython.core.display.Image object>"
      ]
     },
     "execution_count": 43,
     "metadata": {},
     "output_type": "execute_result"
    }
   ],
   "source": [
    "## Create and Train Decisiion Tree using training data\n",
    "# Included hyperparameters for a readable tree\n",
    "fundTree = DecisionTreeClassifier(random_state = 12345, max_depth = 7, min_impurity_decrease = 0.005)\n",
    "fundTree.fit(trainX, trainY)\n",
    "\n",
    "## find initial results of the training predictions\n",
    "\n",
    "classificationSummary(trainY, fundTree.predict(trainX))\n",
    "plotDecisionTree(fundTree, feature_names=trainX.columns)"
   ]
  },
  {
   "cell_type": "markdown",
   "id": "6ded4f8f",
   "metadata": {},
   "source": [
    "**Description of models**\n",
    "\n",
    "The first model created is a logistic regression trained with an l2 penalty to account for missclassifications and also with the hyperparameter of class_weight set to balanced as the training dataset is supposed to be split at 50% donors and 50% non donors.\n",
    "\n",
    "The second model created is a decision tree that was experimented with different levels of max_depth and min_impurity in order to find the optimal tree that was readable and provided the best results on the training dataset."
   ]
  },
  {
   "cell_type": "markdown",
   "id": "e92ebfb3",
   "metadata": {},
   "source": [
    "## 2.2. Classification under asymmetric response and cost: What is the reasoning behind using weighted sampling to produce a training set with equal numbers of donors and non-donors? Why not use a simple random sample from the original dataset?"
   ]
  },
  {
   "cell_type": "markdown",
   "id": "9292cd49",
   "metadata": {},
   "source": [
    "**Answer:** Using weighted sampling, and in this case \"oversampling\" the target donor class is often helpful in cases where the postitive class, the class that we are specifically targeting, has a very low response rate and where we are interested in learning more about a class that is very small. As an example, if we were to randomly sample this dataset, because the target class is such a small percentage of 5.1%, it's possible that in our sample we would either have none of the target class chosen, or such a small number of positive responses from which our models would not be able to learn anything. Additionally, when working with small samples, the models may default to predicting everything as not positive and in doing so would be highly accurate for most classifications but nevertheless miss out on the actual positive class. By using weighted sampling for our training data, we are able to learn more about and catch the more valuable positive responders that we are interested in."
   ]
  },
  {
   "cell_type": "markdown",
   "id": "37285cc1",
   "metadata": {},
   "source": [
    "## 2.3. Calculate net profit: For each method, calculate the cumulative gains of net profit for both the training and validation sets based on the actual response rate (5.1%.) \n",
    "**Again, the expected donation, given that they are donors, is 13.00, and the total cost of each mailing is 0.68. (Hint: To calculate estimated net profit, we will need to undo the effects of the weighted sampling and calculate the net profit that would reflect the actual response distribution of 5.1% donors and 94.9% non-donors. To do this, divide each row’s net profit by the oversampling weights applicable to the actual status of that row. The oversampling weight for actual donors is 50%/5.1% = 9.8. The oversampling weight for actual non-donors is 50%/94.9% = 0.53.)**"
   ]
  },
  {
   "cell_type": "markdown",
   "id": "696722fa",
   "metadata": {},
   "source": [
    "### Calculate Net Profit for Logistic Regression"
   ]
  },
  {
   "cell_type": "code",
   "execution_count": 44,
   "id": "2d269998",
   "metadata": {},
   "outputs": [],
   "source": [
    "## Copy dataset for only logistic regression results\n",
    "trainX_gains_log = trainX.copy(deep=False)\n",
    "testX_gains_log = testX.copy(deep=False)\n",
    "\n",
    "## Predict if customer will donate using logistic regression\n",
    "trainX_gains_log['pred'] = logit_fund.predict(trainX)\n",
    "testX_gains_log['pred'] = logit_fund.predict(testX)\n",
    "\n",
    "## Assign the revenue given prediction result\n",
    "trainX_gains_log['revenue'] = trainX_gains_log['pred'].apply(lambda x: 13 if x == 1 else 0)\n",
    "testX_gains_log['revenue'] = testX_gains_log['pred'].apply(lambda x: 13 if x == 1 else 0)\n",
    "\n",
    "## Calculate net profit based on whether they donated or not\n",
    "trainX_gains_log['net_profit'] = trainX_gains_log['revenue'] - 0.68\n",
    "testX_gains_log['net_profit'] = testX_gains_log['revenue'] - 0.68"
   ]
  },
  {
   "cell_type": "code",
   "execution_count": 45,
   "id": "03ce5067",
   "metadata": {},
   "outputs": [],
   "source": [
    "## Divide net profit by the weighted discount factor\n",
    "trainX_gains_log['discount_factor'] = trainX_gains_log['pred'].apply(lambda x: 9.8 if x == 1 else 0.53)\n",
    "testX_gains_log['discount_factor'] = testX_gains_log['pred'].apply(lambda x: 9.8 if x == 1 else 0.53)\n",
    "\n",
    "\n",
    "trainX_gains_log['weighted_net_profit'] = trainX_gains_log[\"net_profit\"].div(trainX_gains_log[\"discount_factor\"].values)\n",
    "testX_gains_log['weighted_net_profit'] = testX_gains_log[\"net_profit\"].div(testX_gains_log[\"discount_factor\"].values)"
   ]
  },
  {
   "cell_type": "code",
   "execution_count": 46,
   "id": "4003817f",
   "metadata": {},
   "outputs": [
    {
     "name": "stdout",
     "output_type": "stream",
     "text": [
      "Weighted Net Profit using Logistic Regression: -82.19\n"
     ]
    }
   ],
   "source": [
    "## Find total estimated net profit given the weights\n",
    "\n",
    "print(\"Weighted Net Profit using Logistic Regression:\", round(testX_gains_log['weighted_net_profit'].sum(),2))"
   ]
  },
  {
   "cell_type": "markdown",
   "id": "ce6097ed",
   "metadata": {},
   "source": [
    "### Calculate Net Profit for Decision Tree"
   ]
  },
  {
   "cell_type": "code",
   "execution_count": 47,
   "id": "33c9dee0",
   "metadata": {},
   "outputs": [],
   "source": [
    "## Copy dataset for only decision tree results\n",
    "trainX_gains_dt = trainX.copy(deep=False)\n",
    "testX_gains_dt = testX.copy(deep=False)\n",
    "\n",
    "## Predict if customer will donate using decision tree\n",
    "trainX_gains_dt['pred'] = fundTree.predict(trainX)\n",
    "testX_gains_dt['pred'] = fundTree.predict(testX)\n",
    "\n",
    "## Assign the revenue given prediction result\n",
    "trainX_gains_dt['revenue'] = trainX_gains_dt['pred'].apply(lambda x: 13 if x == 1 else 0)\n",
    "testX_gains_dt['revenue'] = testX_gains_dt['pred'].apply(lambda x: 13 if x == 1 else 0)\n",
    "\n",
    "## Calculate net profit based on whether they donated or not\n",
    "trainX_gains_dt['net_profit'] = trainX_gains_dt['revenue'] - 0.68\n",
    "testX_gains_dt['net_profit'] = testX_gains_dt['revenue'] - 0.68"
   ]
  },
  {
   "cell_type": "code",
   "execution_count": 48,
   "id": "dbdd5ff0",
   "metadata": {},
   "outputs": [],
   "source": [
    "## Divide net profit by the weighted discount factor\n",
    "trainX_gains_dt['discount_factor'] = trainX_gains_dt['pred'].apply(lambda x: 9.8 if x == 1 else 0.53)\n",
    "testX_gains_dt['discount_factor'] = testX_gains_dt['pred'].apply(lambda x: 9.8 if x == 1 else 0.53)\n",
    "\n",
    "trainX_gains_dt['weighted_net_profit'] = trainX_gains_dt[\"net_profit\"].div(trainX_gains_dt[\"discount_factor\"].values)\n",
    "testX_gains_dt['weighted_net_profit'] = testX_gains_dt[\"net_profit\"].div(testX_gains_dt[\"discount_factor\"].values)"
   ]
  },
  {
   "cell_type": "code",
   "execution_count": 49,
   "id": "9ac07d44",
   "metadata": {},
   "outputs": [
    {
     "name": "stdout",
     "output_type": "stream",
     "text": [
      "Weighted Net Profit using Decision Trees: -435.27\n"
     ]
    }
   ],
   "source": [
    "## Find total estimated net profit given the weights\n",
    "\n",
    "print(\"Weighted Net Profit using Decision Trees:\", round(testX_gains_dt['weighted_net_profit'].sum(),2))"
   ]
  },
  {
   "cell_type": "markdown",
   "id": "68f0575f",
   "metadata": {},
   "source": [
    "## 2.4. Draw cumulative gains curves: Draw the different models’ net profit cumulative gains curves for the validation set in a single plot (net profit on the y-axis, proportion of list or number mailed on the x-axis). Is there a model that dominates?**"
   ]
  },
  {
   "cell_type": "code",
   "execution_count": 50,
   "id": "0a4deafd",
   "metadata": {},
   "outputs": [],
   "source": [
    "## Logistic Regression\n",
    "# predicted probabilities for validation data set\n",
    "\n",
    "# save weighted net profit to new dataframe\n",
    "log_result = pd.DataFrame(testX_gains_log['weighted_net_profit'])\n",
    "tree_result = pd.DataFrame(testX_gains_dt['weighted_net_profit'])\n",
    "\n",
    "\n",
    "## save sorted dataframe\n",
    "df_log = log_result.sort_values(by=['weighted_net_profit'], ascending=False)\n",
    "df_tree = tree_result.sort_values(by=['weighted_net_profit'], ascending=False)"
   ]
  },
  {
   "cell_type": "code",
   "execution_count": 51,
   "id": "76e012d5",
   "metadata": {},
   "outputs": [
    {
     "data": {
      "image/png": "[encoded data removed]",
      "text/plain": [
       "<Figure size 576x576 with 1 Axes>"
      ]
     },
     "metadata": {
      "needs_background": "light"
     },
     "output_type": "display_data"
    }
   ],
   "source": [
    "# lift chart for validation set\n",
    "\n",
    "ax = gainsChart(df_log.weighted_net_profit, label=\"Logistic Regression\", color='C3', figsize=[8,8])\n",
    "ax = gainsChart(df_tree.weighted_net_profit, label=\"Decision Tree\", color='C2', ax=ax)\n",
    "ax.legend()\n",
    "ax.set_title('Cumulative Profit for Logistic Regression and Decision Tree')\n",
    "plt.show()"
   ]
  },
  {
   "cell_type": "markdown",
   "id": "16a58f25",
   "metadata": {},
   "source": [
    "**Answer:** Knowing that this dataset consists of 50% donors and 50% non donors, the logistic regression seems to predict many more records as donors, and closer to the 600 (50% of the validation set) target number. With this, we also see a much higher cumulative gain that indicates better performance of the logistic regression model."
   ]
  },
  {
   "cell_type": "markdown",
   "id": "0f8eaec9",
   "metadata": {},
   "source": [
    "## 2.5. Select the best model: From your answer in (4), what do you think is the “best” model?"
   ]
  },
  {
   "cell_type": "code",
   "execution_count": 52,
   "id": "af4c2940",
   "metadata": {},
   "outputs": [
    {
     "name": "stdout",
     "output_type": "stream",
     "text": [
      "Confusion Matrix (Accuracy 0.5721)\n",
      "\n",
      "       Prediction\n",
      "Actual   0   1\n",
      "     0 377 261\n",
      "     1 273 337\n",
      "\n",
      "F1 Score 0.5717\n",
      "Precision: 0.5718\n",
      "Recall: 0.5717\n",
      "Auc: 0.5717\n"
     ]
    }
   ],
   "source": [
    "## Logistic Regression\n",
    "\n",
    "classificationSummary(testY, logit_fund.predict(testX))\n",
    "\n",
    "print(\"\\nF1 Score\", round(f1_score(testY, logit_fund.predict(testX), average=\"macro\"),4))\n",
    "print(\"Precision:\", round(precision_score(testY, logit_fund.predict(testX), average=\"macro\"),4))\n",
    "print(\"Recall:\", round(recall_score(testY, logit_fund.predict(testX), average=\"macro\"),4))\n",
    "\n",
    "\n",
    "fpr, tpr, thresholds = roc_curve(testY, logit_fund.predict(testX))\n",
    "print(\"Auc:\", round(auc(fpr, tpr),4))"
   ]
  },
  {
   "cell_type": "code",
   "execution_count": 53,
   "id": "db4f97d6",
   "metadata": {},
   "outputs": [
    {
     "name": "stdout",
     "output_type": "stream",
     "text": [
      "Confusion Matrix (Accuracy 0.5489)\n",
      "\n",
      "       Prediction\n",
      "Actual   0   1\n",
      "     0 432 206\n",
      "     1 357 253\n",
      "\n",
      "F1 Score 0.5394\n",
      "Precision: 0.5494\n",
      "Recall: 0.5459\n",
      "Auc: 0.5459\n"
     ]
    }
   ],
   "source": [
    "## Decision Tree\n",
    "\n",
    "classificationSummary(testY, fundTree.predict(testX))\n",
    "\n",
    "\n",
    "print(\"\\nF1 Score\", round(f1_score(testY, fundTree.predict(testX), average=\"macro\"),4))\n",
    "print(\"Precision:\", round(precision_score(testY, fundTree.predict(testX), average=\"macro\"),4))\n",
    "print(\"Recall:\", round(recall_score(testY, fundTree.predict(testX), average=\"macro\"),4))\n",
    "\n",
    "\n",
    "fpr, tpr, thresholds = roc_curve(testY, fundTree.predict(testX))\n",
    "print(\"Auc:\", round(auc(fpr, tpr),4))"
   ]
  },
  {
   "cell_type": "markdown",
   "id": "53eabe08",
   "metadata": {},
   "source": [
    "**Answer:** In addition to the fact that the logistic regression is able to identify more individuals to be part of the postivie class, the logistic regression has a better accuracy, F1, Precision, Recall, and AUC score. Knowing that in application, the positive class will be very small, the logistic regression will be much more valuable as it appears to be able to predict the positive class more effectively."
   ]
  },
  {
   "cell_type": "markdown",
   "id": "e71be216",
   "metadata": {},
   "source": [
    "# Question 3\n",
    "**Testing: The file FutureFundraising.csv contains the attributes for future mailing candidates.**"
   ]
  },
  {
   "cell_type": "markdown",
   "id": "58ed1101",
   "metadata": {},
   "source": [
    "## 3.1. Using your “best” model from Step 2 (number 5), which of these candidates do you predict as donors and non-donors? List them in descending order of the probability of being a donor. Starting at the top of this sorted list, roughly how far down would you go in a mailing campaign?**"
   ]
  },
  {
   "cell_type": "code",
   "execution_count": 54,
   "id": "88d4325c",
   "metadata": {},
   "outputs": [],
   "source": [
    "## read the future fundraiser dataset\n",
    "\n",
    "fund_future = pd.read_csv(\"/Users/sanjayregiphilip/OneDrive/DS/ADS505/Module4/FutureFundraising.csv\")\n",
    "\n",
    "# drop unnecessary columns\n",
    "fund_future = fund_future.drop(columns = ['TARGET_B', 'TARGET_D'])\n",
    "fund_future = fund_future.drop(columns = ['Row Id', 'Row Id.'])"
   ]
  },
  {
   "cell_type": "code",
   "execution_count": 55,
   "id": "1b0f1f2f",
   "metadata": {},
   "outputs": [
    {
     "data": {
      "text/html": [
       "<div>\n",
       "<style scoped>\n",
       "    .dataframe tbody tr th:only-of-type {\n",
       "        vertical-align: middle;\n",
       "    }\n",
       "\n",
       "    .dataframe tbody tr th {\n",
       "        vertical-align: top;\n",
       "    }\n",
       "\n",
       "    .dataframe thead th {\n",
       "        text-align: right;\n",
       "    }\n",
       "</style>\n",
       "<table border=\"1\" class=\"dataframe\">\n",
       "  <thead>\n",
       "    <tr style=\"text-align: right;\">\n",
       "      <th></th>\n",
       "      <th>zipconvert_2</th>\n",
       "      <th>zipconvert_3</th>\n",
       "      <th>zipconvert_4</th>\n",
       "      <th>zipconvert_5</th>\n",
       "      <th>homeowner dummy</th>\n",
       "      <th>NUMCHLD</th>\n",
       "      <th>INCOME</th>\n",
       "      <th>gender dummy</th>\n",
       "      <th>WEALTH</th>\n",
       "      <th>HV</th>\n",
       "      <th>...</th>\n",
       "      <th>Icavg</th>\n",
       "      <th>IC15</th>\n",
       "      <th>NUMPROM</th>\n",
       "      <th>RAMNTALL</th>\n",
       "      <th>MAXRAMNT</th>\n",
       "      <th>LASTGIFT</th>\n",
       "      <th>totalmonths</th>\n",
       "      <th>TIMELAG</th>\n",
       "      <th>AVGGIFT</th>\n",
       "      <th>pred_prob</th>\n",
       "    </tr>\n",
       "  </thead>\n",
       "  <tbody>\n",
       "    <tr>\n",
       "      <th>0</th>\n",
       "      <td>0</td>\n",
       "      <td>1</td>\n",
       "      <td>0</td>\n",
       "      <td>0</td>\n",
       "      <td>1</td>\n",
       "      <td>1</td>\n",
       "      <td>1</td>\n",
       "      <td>1</td>\n",
       "      <td>8</td>\n",
       "      <td>923</td>\n",
       "      <td>...</td>\n",
       "      <td>452</td>\n",
       "      <td>3</td>\n",
       "      <td>42</td>\n",
       "      <td>92.0</td>\n",
       "      <td>29.0</td>\n",
       "      <td>15.0</td>\n",
       "      <td>17</td>\n",
       "      <td>8</td>\n",
       "      <td>15.333333</td>\n",
       "      <td>0.576228</td>\n",
       "    </tr>\n",
       "    <tr>\n",
       "      <th>1</th>\n",
       "      <td>0</td>\n",
       "      <td>0</td>\n",
       "      <td>1</td>\n",
       "      <td>0</td>\n",
       "      <td>0</td>\n",
       "      <td>1</td>\n",
       "      <td>2</td>\n",
       "      <td>1</td>\n",
       "      <td>9</td>\n",
       "      <td>724</td>\n",
       "      <td>...</td>\n",
       "      <td>453</td>\n",
       "      <td>4</td>\n",
       "      <td>21</td>\n",
       "      <td>30.0</td>\n",
       "      <td>20.0</td>\n",
       "      <td>20.0</td>\n",
       "      <td>33</td>\n",
       "      <td>9</td>\n",
       "      <td>15.000000</td>\n",
       "      <td>0.384069</td>\n",
       "    </tr>\n",
       "    <tr>\n",
       "      <th>2</th>\n",
       "      <td>0</td>\n",
       "      <td>0</td>\n",
       "      <td>0</td>\n",
       "      <td>1</td>\n",
       "      <td>0</td>\n",
       "      <td>1</td>\n",
       "      <td>1</td>\n",
       "      <td>0</td>\n",
       "      <td>4</td>\n",
       "      <td>1153</td>\n",
       "      <td>...</td>\n",
       "      <td>376</td>\n",
       "      <td>10</td>\n",
       "      <td>61</td>\n",
       "      <td>220.0</td>\n",
       "      <td>35.0</td>\n",
       "      <td>25.0</td>\n",
       "      <td>31</td>\n",
       "      <td>9</td>\n",
       "      <td>24.444444</td>\n",
       "      <td>0.406370</td>\n",
       "    </tr>\n",
       "    <tr>\n",
       "      <th>3</th>\n",
       "      <td>0</td>\n",
       "      <td>0</td>\n",
       "      <td>0</td>\n",
       "      <td>0</td>\n",
       "      <td>1</td>\n",
       "      <td>1</td>\n",
       "      <td>4</td>\n",
       "      <td>0</td>\n",
       "      <td>1</td>\n",
       "      <td>551</td>\n",
       "      <td>...</td>\n",
       "      <td>283</td>\n",
       "      <td>21</td>\n",
       "      <td>32</td>\n",
       "      <td>41.0</td>\n",
       "      <td>19.0</td>\n",
       "      <td>19.0</td>\n",
       "      <td>31</td>\n",
       "      <td>13</td>\n",
       "      <td>13.666667</td>\n",
       "      <td>0.369161</td>\n",
       "    </tr>\n",
       "    <tr>\n",
       "      <th>4</th>\n",
       "      <td>0</td>\n",
       "      <td>0</td>\n",
       "      <td>1</td>\n",
       "      <td>0</td>\n",
       "      <td>1</td>\n",
       "      <td>1</td>\n",
       "      <td>7</td>\n",
       "      <td>1</td>\n",
       "      <td>9</td>\n",
       "      <td>2214</td>\n",
       "      <td>...</td>\n",
       "      <td>850</td>\n",
       "      <td>1</td>\n",
       "      <td>47</td>\n",
       "      <td>46.0</td>\n",
       "      <td>10.0</td>\n",
       "      <td>10.0</td>\n",
       "      <td>28</td>\n",
       "      <td>8</td>\n",
       "      <td>5.750000</td>\n",
       "      <td>0.579370</td>\n",
       "    </tr>\n",
       "  </tbody>\n",
       "</table>\n",
       "<p>5 rows × 21 columns</p>\n",
       "</div>"
      ],
      "text/plain": [
       "   zipconvert_2  zipconvert_3  zipconvert_4  zipconvert_5  homeowner dummy  \\\n",
       "0             0             1             0             0                1   \n",
       "1             0             0             1             0                0   \n",
       "2             0             0             0             1                0   \n",
       "3             0             0             0             0                1   \n",
       "4             0             0             1             0                1   \n",
       "\n",
       "   NUMCHLD  INCOME  gender dummy  WEALTH    HV  ...  Icavg  IC15  NUMPROM  \\\n",
       "0        1       1             1       8   923  ...    452     3       42   \n",
       "1        1       2             1       9   724  ...    453     4       21   \n",
       "2        1       1             0       4  1153  ...    376    10       61   \n",
       "3        1       4             0       1   551  ...    283    21       32   \n",
       "4        1       7             1       9  2214  ...    850     1       47   \n",
       "\n",
       "   RAMNTALL  MAXRAMNT  LASTGIFT  totalmonths  TIMELAG    AVGGIFT  pred_prob  \n",
       "0      92.0      29.0      15.0           17        8  15.333333   0.576228  \n",
       "1      30.0      20.0      20.0           33        9  15.000000   0.384069  \n",
       "2     220.0      35.0      25.0           31        9  24.444444   0.406370  \n",
       "3      41.0      19.0      19.0           31       13  13.666667   0.369161  \n",
       "4      46.0      10.0      10.0           28        8   5.750000   0.579370  \n",
       "\n",
       "[5 rows x 21 columns]"
      ]
     },
     "execution_count": 55,
     "metadata": {},
     "output_type": "execute_result"
    }
   ],
   "source": [
    "## predict donor using logistic regression model\n",
    "\n",
    "prob_class_1 = logit_fund.predict_proba(fund_future)[:, 1] \n",
    "\n",
    "# save results in Dataframe\n",
    "prob_class_1 = pd.DataFrame(prob_class_1)\n",
    "fund_future['pred_prob'] = prob_class_1\n",
    "fund_future.head()"
   ]
  },
  {
   "cell_type": "code",
   "execution_count": 56,
   "id": "2d99f7ad",
   "metadata": {
    "scrolled": true
   },
   "outputs": [
    {
     "data": {
      "text/html": [
       "<div>\n",
       "<style scoped>\n",
       "    .dataframe tbody tr th:only-of-type {\n",
       "        vertical-align: middle;\n",
       "    }\n",
       "\n",
       "    .dataframe tbody tr th {\n",
       "        vertical-align: top;\n",
       "    }\n",
       "\n",
       "    .dataframe thead th {\n",
       "        text-align: right;\n",
       "    }\n",
       "</style>\n",
       "<table border=\"1\" class=\"dataframe\">\n",
       "  <thead>\n",
       "    <tr style=\"text-align: right;\">\n",
       "      <th></th>\n",
       "      <th>zipconvert_2</th>\n",
       "      <th>zipconvert_3</th>\n",
       "      <th>zipconvert_4</th>\n",
       "      <th>zipconvert_5</th>\n",
       "      <th>homeowner dummy</th>\n",
       "      <th>NUMCHLD</th>\n",
       "      <th>INCOME</th>\n",
       "      <th>gender dummy</th>\n",
       "      <th>WEALTH</th>\n",
       "      <th>HV</th>\n",
       "      <th>...</th>\n",
       "      <th>Icavg</th>\n",
       "      <th>IC15</th>\n",
       "      <th>NUMPROM</th>\n",
       "      <th>RAMNTALL</th>\n",
       "      <th>MAXRAMNT</th>\n",
       "      <th>LASTGIFT</th>\n",
       "      <th>totalmonths</th>\n",
       "      <th>TIMELAG</th>\n",
       "      <th>AVGGIFT</th>\n",
       "      <th>pred_prob</th>\n",
       "    </tr>\n",
       "  </thead>\n",
       "  <tbody>\n",
       "    <tr>\n",
       "      <th>0</th>\n",
       "      <td>0</td>\n",
       "      <td>0</td>\n",
       "      <td>0</td>\n",
       "      <td>1</td>\n",
       "      <td>1</td>\n",
       "      <td>1</td>\n",
       "      <td>4</td>\n",
       "      <td>1</td>\n",
       "      <td>9</td>\n",
       "      <td>3630</td>\n",
       "      <td>...</td>\n",
       "      <td>816</td>\n",
       "      <td>6</td>\n",
       "      <td>114</td>\n",
       "      <td>279.00</td>\n",
       "      <td>25.0</td>\n",
       "      <td>25.0</td>\n",
       "      <td>17</td>\n",
       "      <td>5</td>\n",
       "      <td>14.684211</td>\n",
       "      <td>0.768460</td>\n",
       "    </tr>\n",
       "    <tr>\n",
       "      <th>1</th>\n",
       "      <td>0</td>\n",
       "      <td>0</td>\n",
       "      <td>0</td>\n",
       "      <td>1</td>\n",
       "      <td>1</td>\n",
       "      <td>1</td>\n",
       "      <td>4</td>\n",
       "      <td>1</td>\n",
       "      <td>4</td>\n",
       "      <td>649</td>\n",
       "      <td>...</td>\n",
       "      <td>294</td>\n",
       "      <td>29</td>\n",
       "      <td>101</td>\n",
       "      <td>187.00</td>\n",
       "      <td>21.0</td>\n",
       "      <td>10.0</td>\n",
       "      <td>18</td>\n",
       "      <td>11</td>\n",
       "      <td>11.000000</td>\n",
       "      <td>0.766695</td>\n",
       "    </tr>\n",
       "    <tr>\n",
       "      <th>2</th>\n",
       "      <td>1</td>\n",
       "      <td>0</td>\n",
       "      <td>0</td>\n",
       "      <td>0</td>\n",
       "      <td>1</td>\n",
       "      <td>1</td>\n",
       "      <td>6</td>\n",
       "      <td>0</td>\n",
       "      <td>1</td>\n",
       "      <td>431</td>\n",
       "      <td>...</td>\n",
       "      <td>200</td>\n",
       "      <td>37</td>\n",
       "      <td>98</td>\n",
       "      <td>181.64</td>\n",
       "      <td>20.0</td>\n",
       "      <td>10.0</td>\n",
       "      <td>17</td>\n",
       "      <td>3</td>\n",
       "      <td>9.082000</td>\n",
       "      <td>0.750430</td>\n",
       "    </tr>\n",
       "    <tr>\n",
       "      <th>3</th>\n",
       "      <td>1</td>\n",
       "      <td>0</td>\n",
       "      <td>0</td>\n",
       "      <td>0</td>\n",
       "      <td>1</td>\n",
       "      <td>1</td>\n",
       "      <td>5</td>\n",
       "      <td>0</td>\n",
       "      <td>9</td>\n",
       "      <td>1651</td>\n",
       "      <td>...</td>\n",
       "      <td>429</td>\n",
       "      <td>9</td>\n",
       "      <td>108</td>\n",
       "      <td>169.00</td>\n",
       "      <td>11.0</td>\n",
       "      <td>5.0</td>\n",
       "      <td>18</td>\n",
       "      <td>13</td>\n",
       "      <td>6.259259</td>\n",
       "      <td>0.750040</td>\n",
       "    </tr>\n",
       "    <tr>\n",
       "      <th>4</th>\n",
       "      <td>0</td>\n",
       "      <td>0</td>\n",
       "      <td>1</td>\n",
       "      <td>0</td>\n",
       "      <td>1</td>\n",
       "      <td>1</td>\n",
       "      <td>3</td>\n",
       "      <td>1</td>\n",
       "      <td>3</td>\n",
       "      <td>577</td>\n",
       "      <td>...</td>\n",
       "      <td>378</td>\n",
       "      <td>23</td>\n",
       "      <td>148</td>\n",
       "      <td>422.00</td>\n",
       "      <td>30.0</td>\n",
       "      <td>5.0</td>\n",
       "      <td>19</td>\n",
       "      <td>19</td>\n",
       "      <td>10.047619</td>\n",
       "      <td>0.747847</td>\n",
       "    </tr>\n",
       "  </tbody>\n",
       "</table>\n",
       "<p>5 rows × 21 columns</p>\n",
       "</div>"
      ],
      "text/plain": [
       "   zipconvert_2  zipconvert_3  zipconvert_4  zipconvert_5  homeowner dummy  \\\n",
       "0             0             0             0             1                1   \n",
       "1             0             0             0             1                1   \n",
       "2             1             0             0             0                1   \n",
       "3             1             0             0             0                1   \n",
       "4             0             0             1             0                1   \n",
       "\n",
       "   NUMCHLD  INCOME  gender dummy  WEALTH    HV  ...  Icavg  IC15  NUMPROM  \\\n",
       "0        1       4             1       9  3630  ...    816     6      114   \n",
       "1        1       4             1       4   649  ...    294    29      101   \n",
       "2        1       6             0       1   431  ...    200    37       98   \n",
       "3        1       5             0       9  1651  ...    429     9      108   \n",
       "4        1       3             1       3   577  ...    378    23      148   \n",
       "\n",
       "   RAMNTALL  MAXRAMNT  LASTGIFT  totalmonths  TIMELAG    AVGGIFT  pred_prob  \n",
       "0    279.00      25.0      25.0           17        5  14.684211   0.768460  \n",
       "1    187.00      21.0      10.0           18       11  11.000000   0.766695  \n",
       "2    181.64      20.0      10.0           17        3   9.082000   0.750430  \n",
       "3    169.00      11.0       5.0           18       13   6.259259   0.750040  \n",
       "4    422.00      30.0       5.0           19       19  10.047619   0.747847  \n",
       "\n",
       "[5 rows x 21 columns]"
      ]
     },
     "execution_count": 56,
     "metadata": {},
     "output_type": "execute_result"
    }
   ],
   "source": [
    "## sort dataframe by probability someone is a donor\n",
    "fund_future = fund_future.sort_values(by=['pred_prob'], ascending=False).reset_index(drop=True)\n",
    "fund_future.head()"
   ]
  },
  {
   "cell_type": "code",
   "execution_count": 57,
   "id": "33ce0d9d",
   "metadata": {},
   "outputs": [
    {
     "data": {
      "text/plain": [
       "array([[<AxesSubplot:title={'center':'pred_prob'}>]], dtype=object)"
      ]
     },
     "execution_count": 57,
     "metadata": {},
     "output_type": "execute_result"
    },
    {
     "data": {
      "image/png": "[encoded data removed]",
      "text/plain": [
       "<Figure size 432x288 with 1 Axes>"
      ]
     },
     "metadata": {
      "needs_background": "light"
     },
     "output_type": "display_data"
    }
   ],
   "source": [
    "fund_future.hist(column=['pred_prob'],  bins=6)"
   ]
  },
  {
   "cell_type": "code",
   "execution_count": 58,
   "id": "7587467b",
   "metadata": {},
   "outputs": [],
   "source": [
    "## Copy dataset for future fundraise logisitic regression results\n",
    "future = fund_future.drop(columns = ['pred_prob'])\n",
    "\n",
    "## Predict if customer will donate (needs to be redone previous was probabilities)\n",
    "future['pred'] = logit_fund.predict(future)\n",
    "\n",
    "## Assign the revenue given prediction result\n",
    "future['revenue'] = future['pred'].apply(lambda x: 13 if x == 1 else 0)\n",
    "\n",
    "## Calculate net profit based on whether they donated or not\n",
    "future['net_profit'] = future['revenue'] - 0.68"
   ]
  },
  {
   "cell_type": "code",
   "execution_count": 59,
   "id": "7b7a8486",
   "metadata": {},
   "outputs": [],
   "source": [
    "# save net profit to new dataframe\n",
    "future_result = pd.DataFrame(future['net_profit'])\n",
    "\n",
    "## save sorted dataframe\n",
    "df_future = future_result.sort_values(by=['net_profit'], ascending=False)"
   ]
  },
  {
   "cell_type": "code",
   "execution_count": 60,
   "id": "4ce43c52",
   "metadata": {},
   "outputs": [
    {
     "data": {
      "image/png": "[encoded data removed]",
      "text/plain": [
       "<Figure size 576x576 with 1 Axes>"
      ]
     },
     "metadata": {
      "needs_background": "light"
     },
     "output_type": "display_data"
    }
   ],
   "source": [
    "# lift chart for fundraise dataset\n",
    "\n",
    "ax = gainsChart(df_future.net_profit, label=\"Logistic Regression\", color='C3', figsize=[8,8])\n",
    "ax.legend()\n",
    "ax.set_title('Expected Cumulative Profit for Future Fundraising')\n",
    "plt.show()"
   ]
  },
  {
   "cell_type": "code",
   "execution_count": 61,
   "id": "268da63f",
   "metadata": {
    "scrolled": false
   },
   "outputs": [
    {
     "data": {
      "text/plain": [
       "916"
      ]
     },
     "execution_count": 61,
     "metadata": {},
     "output_type": "execute_result"
    }
   ],
   "source": [
    "len(future.loc[future['net_profit'] > 0])"
   ]
  },
  {
   "cell_type": "markdown",
   "id": "0088c2d6",
   "metadata": {},
   "source": [
    "**Answer:** Using the logistic regression to identify potential donors, there are 916 records out of the fundraising future dataset of 2000 where there is a strong probability that the individual will likely donate and where a postiive net profit is also predicted. Therefore, I would choose to only target those 916 individuals.\n",
    "\n",
    "Please note that for the future dataset, weighted net profit was not utilized because in the real world, the overall distrubition of the target class is not known although for past records it was 5.3%."
   ]
  },
  {
   "cell_type": "markdown",
   "id": "59aa9e7b",
   "metadata": {},
   "source": [
    "**Please continue to next page for Question 3.2**"
   ]
  }
 ],
 "metadata": {
  "kernelspec": {
   "display_name": "Python 3",
   "language": "python",
   "name": "python3"
  },
  "language_info": {
   "codemirror_mode": {
    "name": "ipython",
    "version": 3
   },
   "file_extension": ".py",
   "mimetype": "text/x-python",
   "name": "python",
   "nbconvert_exporter": "python",
   "pygments_lexer": "ipython3",
   "version": "3.6.13"
  }
 },
 "nbformat": 4,
 "nbformat_minor": 5
}
