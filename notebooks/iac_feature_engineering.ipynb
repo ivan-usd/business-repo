{
 "cells": [
  {
   "cell_type": "code",
   "execution_count": 151,
   "metadata": {
    "collapsed": true
   },
   "outputs": [],
   "source": [
    "import pandas as pd\n",
    "import functools as ft\n",
    "import numpy as np\n",
    "import matplotlib.pylab as plt\n",
    "import string\n",
    "import re\n",
    "import spacy\n",
    "from sklearn.feature_extraction.text import TfidfVectorizer"
   ]
  },
  {
   "cell_type": "code",
   "execution_count": 152,
   "outputs": [],
   "source": [
    "FILEPATH = '../data/movie-set-data/'"
   ],
   "metadata": {
    "collapsed": false
   }
  },
  {
   "cell_type": "code",
   "execution_count": 153,
   "outputs": [
    {
     "name": "stderr",
     "output_type": "stream",
     "text": [
      "/Users/ivan/opt/anaconda3/lib/python3.9/site-packages/IPython/core/interactiveshell.py:3444: DtypeWarning: Columns (10) have mixed types.Specify dtype option on import or set low_memory=False.\n",
      "  exec(code_obj, self.user_global_ns, self.user_ns)\n"
     ]
    }
   ],
   "source": [
    "credits_df = pd.read_csv(f'{FILEPATH}credits.csv')\n",
    "keywords_df = pd.read_csv(f'{FILEPATH}keywords.csv')\n",
    "links_df = pd.read_csv(f'{FILEPATH}links.csv')\n",
    "links_small_df = pd.read_csv(f'{FILEPATH}links_small.csv')\n",
    "movie_meta_df = pd.read_csv(f'{FILEPATH}movies_metadata.csv')\n",
    "ratings_df = pd.read_csv(f'{FILEPATH}ratings.csv')\n",
    "ratings_small_df = pd.read_csv(f'{FILEPATH}ratings_small.csv')"
   ],
   "metadata": {
    "collapsed": false
   }
  },
  {
   "cell_type": "code",
   "execution_count": 154,
   "outputs": [],
   "source": [
    "# dropping corrupted rows\n",
    "filtered_rows = movie_meta_df[movie_meta_df['vote_count'].isnull()].index\n",
    "movie_meta_df=movie_meta_df.drop(index=filtered_rows)\n",
    "\n",
    "movie_meta_df['id'] = movie_meta_df.id.astype('int')"
   ],
   "metadata": {
    "collapsed": false
   }
  },
  {
   "cell_type": "code",
   "execution_count": 155,
   "outputs": [],
   "source": [
    "# dropping adult rated movies\n",
    "filtered_rows = movie_meta_df[movie_meta_df['adult']=='True'].index\n",
    "movie_meta_df = movie_meta_df.drop(index=filtered_rows)\n",
    "\n",
    "# dropping adult column no longer needed\n",
    "movie_meta_df = movie_meta_df.drop(columns='adult')"
   ],
   "metadata": {
    "collapsed": false
   }
  },
  {
   "cell_type": "code",
   "execution_count": 156,
   "outputs": [],
   "source": [
    "# dropping movies that are not already Released\n",
    "filtered_rows = movie_meta_df[movie_meta_df['status']!='Released'].index\n",
    "movie_meta_df = movie_meta_df.drop(index=filtered_rows)\n",
    "\n",
    "# dropping status column no longer needed\n",
    "movie_meta_df = movie_meta_df.drop(columns='status')"
   ],
   "metadata": {
    "collapsed": false
   }
  },
  {
   "cell_type": "code",
   "execution_count": 157,
   "outputs": [
    {
     "data": {
      "text/plain": "array([False, True], dtype=object)"
     },
     "execution_count": 157,
     "metadata": {},
     "output_type": "execute_result"
    }
   ],
   "source": [
    "movie_meta_df['video'].unique()"
   ],
   "metadata": {
    "collapsed": false
   }
  },
  {
   "cell_type": "code",
   "execution_count": 158,
   "outputs": [],
   "source": [
    "# dropping movies that are not already Released\n",
    "filtered_rows = movie_meta_df[movie_meta_df['video']==True].index\n",
    "movie_meta_df = movie_meta_df.drop(index=filtered_rows)\n",
    "\n",
    "# dropping status column no longer needed\n",
    "movie_meta_df = movie_meta_df.drop(columns='video')"
   ],
   "metadata": {
    "collapsed": false
   }
  },
  {
   "cell_type": "markdown",
   "source": [
    "# Cleaning JSON columns"
   ],
   "metadata": {
    "collapsed": false
   }
  },
  {
   "cell_type": "code",
   "execution_count": 159,
   "outputs": [],
   "source": [
    "# merging datasets for text mining\n",
    "dataframes = [keywords_df,credits_df,movie_meta_df]\n",
    "text_df = ft.reduce(lambda left, right: pd.merge(left, right, on='id'), dataframes)\n",
    "\n",
    "# dropping columns not needed\n",
    "text_df = text_df.drop(columns=['belongs_to_collection','homepage','imdb_id','poster_path','original_title'])\n",
    "text_df.rename(columns={'id':'movieId'}, inplace=True)"
   ],
   "metadata": {
    "collapsed": false
   }
  },
  {
   "cell_type": "code",
   "execution_count": 160,
   "outputs": [],
   "source": [
    "small_text_df = pd.DataFrame(text_df[['movieId', 'keywords', 'cast', 'crew', 'genres',\n",
    "                     'popularity', 'production_companies',\n",
    "                     'production_countries', 'revenue', 'runtime',\n",
    "                     'vote_average', 'vote_count']])"
   ],
   "metadata": {
    "collapsed": false
   }
  },
  {
   "cell_type": "code",
   "execution_count": 161,
   "outputs": [],
   "source": [
    "# dropping duplicates and missing values prior to vectorizing\n",
    "small_text_df.drop_duplicates(keep=False,inplace=True)\n",
    "small_text_df.dropna(inplace=True)"
   ],
   "metadata": {
    "collapsed": false
   }
  },
  {
   "cell_type": "code",
   "execution_count": 162,
   "outputs": [
    {
     "data": {
      "text/plain": "'!\"#$%&\\'()*+,-./:;<=>?@[\\\\]^_`{|}~'"
     },
     "execution_count": 162,
     "metadata": {},
     "output_type": "execute_result"
    }
   ],
   "source": [
    "string.punctuation"
   ],
   "metadata": {
    "collapsed": false
   }
  },
  {
   "cell_type": "code",
   "execution_count": 163,
   "outputs": [],
   "source": [
    "# Function to remove punctuation\n",
    "def remove_punctuation(text):\n",
    "    removed_punctuation =\"\".join([char for char in str(text) if char not in string.punctuation])\n",
    "    return removed_punctuation\n",
    "\n",
    "# apply function to strip punctuations for specified columns\n",
    "small_text_df['keywords'] = small_text_df['keywords'].apply(lambda x: remove_punctuation(x))\n",
    "small_text_df['cast'] = small_text_df['cast'].apply(lambda x: remove_punctuation(x))\n",
    "small_text_df['crew'] = small_text_df['crew'].apply(lambda x: remove_punctuation(x))\n",
    "small_text_df['genres'] = small_text_df['genres'].apply(lambda x: remove_punctuation(x))\n",
    "small_text_df['production_companies'] = small_text_df['production_companies'].apply(lambda x: remove_punctuation(x))\n",
    "small_text_df['production_countries'] = small_text_df['production_countries'].apply(lambda x: remove_punctuation(x))"
   ],
   "metadata": {
    "collapsed": false
   }
  },
  {
   "cell_type": "markdown",
   "source": [
    "Tokenizing Words"
   ],
   "metadata": {
    "collapsed": false
   }
  },
  {
   "cell_type": "code",
   "execution_count": 164,
   "outputs": [],
   "source": [
    "#function to tokenize the text\n",
    "def tokenize(text):\n",
    "    tokens = re.split('\\W+', text)\n",
    "    return tokens\n",
    "\n",
    "# add new column 'tokenized' to df\n",
    "small_text_df['keywords'] = small_text_df['keywords'].apply(lambda x: tokenize(x))\n",
    "small_text_df['cast'] = small_text_df['cast'].apply(lambda x: tokenize(x))\n",
    "small_text_df['crew'] = small_text_df['crew'].apply(lambda x: tokenize(x))\n",
    "small_text_df['genres'] = small_text_df['genres'].apply(lambda x: tokenize(x))\n",
    "small_text_df['production_companies'] = small_text_df['production_companies'].apply(lambda x: tokenize(x))\n",
    "small_text_df['production_countries'] = small_text_df['production_countries'].apply(lambda x: tokenize(x))"
   ],
   "metadata": {
    "collapsed": false
   }
  },
  {
   "cell_type": "markdown",
   "source": [
    "Removing Stop Words utilizing spacy word list"
   ],
   "metadata": {
    "collapsed": false
   }
  },
  {
   "cell_type": "code",
   "execution_count": 165,
   "outputs": [
    {
     "name": "stdout",
     "output_type": "stream",
     "text": [
      "{'whatever', 'their', 'everywhere', 'afterwards', 'without', 'would', 'becoming', 'name', 'such', 'they', 'except', 'empty', 'should', 'third', 'few', 'anyhow', 'less', 'together', 'this', 'front', 'thereby', 'she', 'former', 'meanwhile', 'further', 'once', '’ll', 'get', 'when', 'moreover', 'give', 'but', 'done', 'neither', 'ourselves', 'thru', 'can', 'its', 'nothing', \"'re\", 'does', 'could', '‘re', 'various', '‘s', 'yet', 'above', 'herself', 'six', 'his', 'myself', 'wherever', '‘ve', 'quite', 'seemed', 'mine', 'noone', 'others', 'full', 'themselves', 'thus', 'part', 'nevertheless', 'therein', 'everyone', 'was', 'most', 'who', 'him', 'again', 'itself', 'go', 'whereas', 'somehow', 'nobody', 'ours', 'whose', '’m', 'also', 'during', 'be', 'just', 'about', 'some', 'elsewhere', 'thence', 'it', 'twelve', 'three', 'other', 'serious', 'along', 'behind', 'these', 'sometime', 'several', 'hereupon', 'which', 'show', 'twenty', 'hundred', 'keep', 'otherwise', 'really', 'something', 'to', 'yourself', 'everything', 'off', 'them', 'none', 'whoever', 'upon', 'you', 'across', 'thereafter', 'became', 'whereby', 'no', 'same', 'wherein', 'even', 'therefore', 'your', 'though', 'anyone', 'at', 'latter', 'all', 'what', 'nor', 'than', 'did', 'we', 'been', 'from', 'five', 'is', 'before', 'perhaps', 'formerly', 'see', 'may', 'towards', 'ca', 'our', 'now', 'side', 'either', 'for', 'beyond', 'next', 'sixty', 'already', 'might', 'out', 'will', '’re', 'due', \"'s\", \"n't\", 'do', 'per', 'by', 'and', \"'m\", 'through', 'because', 'via', 'throughout', 'else', 'indeed', 'as', 'then', 'rather', 'well', 'a', 'were', 'bottom', 'that', 'any', 'thereupon', 'somewhere', 'seeming', 'used', 'fifty', 'top', 'between', 'eight', 'amongst', 'say', 'anyway', 'he', 'must', 'one', 'many', 'seem', 'whole', \"'ve\", '‘d', 'each', '’s', 'i', 'make', 'besides', 'amount', 'how', 'ever', 'have', 'himself', 'whether', 'put', 'becomes', 'not', 'her', 'herein', 'so', 'more', 'after', 'being', 'eleven', 'hereby', '’ve', 'whereafter', 'up', 'alone', 'toward', 'hence', 'however', 'in', 'hereafter', \"'d\", 'never', 'n‘t', 'take', 'only', 'of', 'why', '’d', 'nine', 'n’t', 'last', 'under', 'whereupon', 'has', 'please', 're', 'while', 'enough', 'me', '‘ll', 'someone', 'nowhere', 'here', 'least', 'since', 'doing', 'back', 'if', 'always', \"'ll\", 'until', 'yours', 'unless', 'become', 'forty', 'mostly', '‘m', 'latterly', 'whither', 'over', 'yourselves', 'almost', 'beside', 'still', 'much', 'among', 'where', 'down', 'very', 'around', 'every', 'am', 'the', 'had', 'hers', 'cannot', 'made', 'whom', 'anywhere', 'whenever', 'seems', 'against', 'both', 'with', 'whence', 'are', 'regarding', 'on', 'too', 'namely', 'below', 'my', 'anything', 'or', 'another', 'ten', 'an', 'often', 'into', 'although', 'first', 'own', 'two', 'id', 'beforehand', 'those', 'move', 'using', 'within', 'call', 'sometimes', 'four', 'us', 'onto', 'there', 'fifteen'}\n"
     ]
    }
   ],
   "source": [
    "#loading the english language small model of spacy\n",
    "en = spacy.load('en_core_web_sm')\n",
    "stop_words = en.Defaults.stop_words\n",
    "# adding id to stop word list due to high repetition\n",
    "stop_words.add('id')\n",
    "print(stop_words)"
   ],
   "metadata": {
    "collapsed": false
   }
  },
  {
   "cell_type": "code",
   "execution_count": 166,
   "outputs": [],
   "source": [
    "# function to remove stopwords\n",
    "def remove_stopwords(tokenized_list):\n",
    "    dropped_stopwords = [word for word in tokenized_list if word not in stop_words]\n",
    "    return dropped_stopwords\n",
    "\n",
    "# add new column 'tokenized' to df\n",
    "small_text_df['keywords'] = small_text_df['keywords'].apply(lambda x: remove_stopwords(x))\n",
    "small_text_df['cast'] = small_text_df['cast'].apply(lambda x: remove_stopwords(x))\n",
    "small_text_df['crew'] = small_text_df['crew'].apply(lambda x: remove_stopwords(x))\n",
    "small_text_df['genres'] = small_text_df['genres'].apply(lambda x: remove_stopwords(x))\n",
    "small_text_df['production_companies'] = small_text_df['production_companies'].apply(lambda x: remove_stopwords(x))\n",
    "small_text_df['production_countries'] = small_text_df['production_countries'].apply(lambda x: remove_stopwords(x))"
   ],
   "metadata": {
    "collapsed": false
   }
  },
  {
   "cell_type": "markdown",
   "source": [
    "# Use avg rating to fill for movies?"
   ],
   "metadata": {
    "collapsed": false
   }
  },
  {
   "cell_type": "code",
   "execution_count": 167,
   "outputs": [
    {
     "data": {
      "text/plain": "   userId  movieId  rating   timestamp\n0       1      110     1.0  1425941529\n1       1      147     4.5  1425942435\n2       1      858     5.0  1425941523\n3       1     1221     5.0  1425941546\n4       1     1246     5.0  1425941556",
      "text/html": "<div>\n<style scoped>\n    .dataframe tbody tr th:only-of-type {\n        vertical-align: middle;\n    }\n\n    .dataframe tbody tr th {\n        vertical-align: top;\n    }\n\n    .dataframe thead th {\n        text-align: right;\n    }\n</style>\n<table border=\"1\" class=\"dataframe\">\n  <thead>\n    <tr style=\"text-align: right;\">\n      <th></th>\n      <th>userId</th>\n      <th>movieId</th>\n      <th>rating</th>\n      <th>timestamp</th>\n    </tr>\n  </thead>\n  <tbody>\n    <tr>\n      <th>0</th>\n      <td>1</td>\n      <td>110</td>\n      <td>1.0</td>\n      <td>1425941529</td>\n    </tr>\n    <tr>\n      <th>1</th>\n      <td>1</td>\n      <td>147</td>\n      <td>4.5</td>\n      <td>1425942435</td>\n    </tr>\n    <tr>\n      <th>2</th>\n      <td>1</td>\n      <td>858</td>\n      <td>5.0</td>\n      <td>1425941523</td>\n    </tr>\n    <tr>\n      <th>3</th>\n      <td>1</td>\n      <td>1221</td>\n      <td>5.0</td>\n      <td>1425941546</td>\n    </tr>\n    <tr>\n      <th>4</th>\n      <td>1</td>\n      <td>1246</td>\n      <td>5.0</td>\n      <td>1425941556</td>\n    </tr>\n  </tbody>\n</table>\n</div>"
     },
     "execution_count": 167,
     "metadata": {},
     "output_type": "execute_result"
    }
   ],
   "source": [
    "ratings_df.head()"
   ],
   "metadata": {
    "collapsed": false
   }
  },
  {
   "cell_type": "code",
   "execution_count": 168,
   "outputs": [],
   "source": [
    "ratings_df.drop(columns=['userId', 'timestamp'], inplace=True)"
   ],
   "metadata": {
    "collapsed": false
   }
  },
  {
   "cell_type": "code",
   "execution_count": 169,
   "outputs": [],
   "source": [
    "avg_ratings = round(ratings_df.groupby('movieId').mean(),2)"
   ],
   "metadata": {
    "collapsed": false
   }
  },
  {
   "cell_type": "code",
   "execution_count": 170,
   "outputs": [],
   "source": [
    "final_df = pd.merge(small_text_df,avg_ratings,on='movieId')\n",
    "final_df.rename(columns={'rating':'avg_rating'}, inplace=True)"
   ],
   "metadata": {
    "collapsed": false
   }
  },
  {
   "cell_type": "code",
   "execution_count": 171,
   "outputs": [],
   "source": [
    "final_df.to_csv('../data/iac_dataset/modeling_data.csv',index=False)"
   ],
   "metadata": {
    "collapsed": false
   }
  }
 ],
 "metadata": {
  "kernelspec": {
   "display_name": "Python 3",
   "language": "python",
   "name": "python3"
  },
  "language_info": {
   "codemirror_mode": {
    "name": "ipython",
    "version": 2
   },
   "file_extension": ".py",
   "mimetype": "text/x-python",
   "name": "python",
   "nbconvert_exporter": "python",
   "pygments_lexer": "ipython2",
   "version": "2.7.6"
  }
 },
 "nbformat": 4,
 "nbformat_minor": 0
}
