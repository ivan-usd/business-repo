{
 "cells": [
  {
   "cell_type": "code",
   "execution_count": 329,
   "metadata": {
    "collapsed": true
   },
   "outputs": [],
   "source": [
    "import pandas as pd\n",
    "import functools as ft\n",
    "import numpy as np\n",
    "from ast import literal_eval"
   ]
  },
  {
   "cell_type": "code",
   "execution_count": 330,
   "outputs": [],
   "source": [
    "FILEPATH = '../data/movie-set-data/'"
   ],
   "metadata": {
    "collapsed": false
   }
  },
  {
   "cell_type": "code",
   "execution_count": 331,
   "outputs": [
    {
     "name": "stderr",
     "output_type": "stream",
     "text": [
      "/Users/ivan/opt/anaconda3/lib/python3.9/site-packages/IPython/core/interactiveshell.py:3444: DtypeWarning: Columns (10) have mixed types.Specify dtype option on import or set low_memory=False.\n",
      "  exec(code_obj, self.user_global_ns, self.user_ns)\n"
     ]
    }
   ],
   "source": [
    "credits_df = pd.read_csv(f'{FILEPATH}credits.csv')\n",
    "keywords_df = pd.read_csv(f'{FILEPATH}keywords.csv')\n",
    "links_df = pd.read_csv(f'{FILEPATH}links.csv')\n",
    "links_small_df = pd.read_csv(f'{FILEPATH}links_small.csv')\n",
    "movie_meta_df = pd.read_csv(f'{FILEPATH}movies_metadata.csv')\n",
    "ratings_df = pd.read_csv(f'{FILEPATH}ratings.csv')\n",
    "ratings_small_df = pd.read_csv(f'{FILEPATH}ratings_small.csv')"
   ],
   "metadata": {
    "collapsed": false
   }
  },
  {
   "cell_type": "code",
   "execution_count": 332,
   "outputs": [
    {
     "data": {
      "text/plain": "   adult                              belongs_to_collection    budget  \\\n0  False  {'id': 10194, 'name': 'Toy Story Collection', ...  30000000   \n1  False                                                NaN  65000000   \n2  False  {'id': 119050, 'name': 'Grumpy Old Men Collect...         0   \n3  False                                                NaN  16000000   \n4  False  {'id': 96871, 'name': 'Father of the Bride Col...         0   \n\n                                              genres  \\\n0  [{'id': 16, 'name': 'Animation'}, {'id': 35, '...   \n1  [{'id': 12, 'name': 'Adventure'}, {'id': 14, '...   \n2  [{'id': 10749, 'name': 'Romance'}, {'id': 35, ...   \n3  [{'id': 35, 'name': 'Comedy'}, {'id': 18, 'nam...   \n4                     [{'id': 35, 'name': 'Comedy'}]   \n\n                               homepage     id    imdb_id original_language  \\\n0  http://toystory.disney.com/toy-story    862  tt0114709                en   \n1                                   NaN   8844  tt0113497                en   \n2                                   NaN  15602  tt0113228                en   \n3                                   NaN  31357  tt0114885                en   \n4                                   NaN  11862  tt0113041                en   \n\n                original_title  \\\n0                    Toy Story   \n1                      Jumanji   \n2             Grumpier Old Men   \n3            Waiting to Exhale   \n4  Father of the Bride Part II   \n\n                                            overview  ... release_date  \\\n0  Led by Woody, Andy's toys live happily in his ...  ...   1995-10-30   \n1  When siblings Judy and Peter discover an encha...  ...   1995-12-15   \n2  A family wedding reignites the ancient feud be...  ...   1995-12-22   \n3  Cheated on, mistreated and stepped on, the wom...  ...   1995-12-22   \n4  Just when George Banks has recovered from his ...  ...   1995-02-10   \n\n       revenue runtime                                   spoken_languages  \\\n0  373554033.0    81.0           [{'iso_639_1': 'en', 'name': 'English'}]   \n1  262797249.0   104.0  [{'iso_639_1': 'en', 'name': 'English'}, {'iso...   \n2          0.0   101.0           [{'iso_639_1': 'en', 'name': 'English'}]   \n3   81452156.0   127.0           [{'iso_639_1': 'en', 'name': 'English'}]   \n4   76578911.0   106.0           [{'iso_639_1': 'en', 'name': 'English'}]   \n\n     status                                            tagline  \\\n0  Released                                                NaN   \n1  Released          Roll the dice and unleash the excitement!   \n2  Released  Still Yelling. Still Fighting. Still Ready for...   \n3  Released  Friends are the people who let you be yourself...   \n4  Released  Just When His World Is Back To Normal... He's ...   \n\n                         title  video vote_average vote_count  \n0                    Toy Story  False          7.7     5415.0  \n1                      Jumanji  False          6.9     2413.0  \n2             Grumpier Old Men  False          6.5       92.0  \n3            Waiting to Exhale  False          6.1       34.0  \n4  Father of the Bride Part II  False          5.7      173.0  \n\n[5 rows x 24 columns]",
      "text/html": "<div>\n<style scoped>\n    .dataframe tbody tr th:only-of-type {\n        vertical-align: middle;\n    }\n\n    .dataframe tbody tr th {\n        vertical-align: top;\n    }\n\n    .dataframe thead th {\n        text-align: right;\n    }\n</style>\n<table border=\"1\" class=\"dataframe\">\n  <thead>\n    <tr style=\"text-align: right;\">\n      <th></th>\n      <th>adult</th>\n      <th>belongs_to_collection</th>\n      <th>budget</th>\n      <th>genres</th>\n      <th>homepage</th>\n      <th>id</th>\n      <th>imdb_id</th>\n      <th>original_language</th>\n      <th>original_title</th>\n      <th>overview</th>\n      <th>...</th>\n      <th>release_date</th>\n      <th>revenue</th>\n      <th>runtime</th>\n      <th>spoken_languages</th>\n      <th>status</th>\n      <th>tagline</th>\n      <th>title</th>\n      <th>video</th>\n      <th>vote_average</th>\n      <th>vote_count</th>\n    </tr>\n  </thead>\n  <tbody>\n    <tr>\n      <th>0</th>\n      <td>False</td>\n      <td>{'id': 10194, 'name': 'Toy Story Collection', ...</td>\n      <td>30000000</td>\n      <td>[{'id': 16, 'name': 'Animation'}, {'id': 35, '...</td>\n      <td>http://toystory.disney.com/toy-story</td>\n      <td>862</td>\n      <td>tt0114709</td>\n      <td>en</td>\n      <td>Toy Story</td>\n      <td>Led by Woody, Andy's toys live happily in his ...</td>\n      <td>...</td>\n      <td>1995-10-30</td>\n      <td>373554033.0</td>\n      <td>81.0</td>\n      <td>[{'iso_639_1': 'en', 'name': 'English'}]</td>\n      <td>Released</td>\n      <td>NaN</td>\n      <td>Toy Story</td>\n      <td>False</td>\n      <td>7.7</td>\n      <td>5415.0</td>\n    </tr>\n    <tr>\n      <th>1</th>\n      <td>False</td>\n      <td>NaN</td>\n      <td>65000000</td>\n      <td>[{'id': 12, 'name': 'Adventure'}, {'id': 14, '...</td>\n      <td>NaN</td>\n      <td>8844</td>\n      <td>tt0113497</td>\n      <td>en</td>\n      <td>Jumanji</td>\n      <td>When siblings Judy and Peter discover an encha...</td>\n      <td>...</td>\n      <td>1995-12-15</td>\n      <td>262797249.0</td>\n      <td>104.0</td>\n      <td>[{'iso_639_1': 'en', 'name': 'English'}, {'iso...</td>\n      <td>Released</td>\n      <td>Roll the dice and unleash the excitement!</td>\n      <td>Jumanji</td>\n      <td>False</td>\n      <td>6.9</td>\n      <td>2413.0</td>\n    </tr>\n    <tr>\n      <th>2</th>\n      <td>False</td>\n      <td>{'id': 119050, 'name': 'Grumpy Old Men Collect...</td>\n      <td>0</td>\n      <td>[{'id': 10749, 'name': 'Romance'}, {'id': 35, ...</td>\n      <td>NaN</td>\n      <td>15602</td>\n      <td>tt0113228</td>\n      <td>en</td>\n      <td>Grumpier Old Men</td>\n      <td>A family wedding reignites the ancient feud be...</td>\n      <td>...</td>\n      <td>1995-12-22</td>\n      <td>0.0</td>\n      <td>101.0</td>\n      <td>[{'iso_639_1': 'en', 'name': 'English'}]</td>\n      <td>Released</td>\n      <td>Still Yelling. Still Fighting. Still Ready for...</td>\n      <td>Grumpier Old Men</td>\n      <td>False</td>\n      <td>6.5</td>\n      <td>92.0</td>\n    </tr>\n    <tr>\n      <th>3</th>\n      <td>False</td>\n      <td>NaN</td>\n      <td>16000000</td>\n      <td>[{'id': 35, 'name': 'Comedy'}, {'id': 18, 'nam...</td>\n      <td>NaN</td>\n      <td>31357</td>\n      <td>tt0114885</td>\n      <td>en</td>\n      <td>Waiting to Exhale</td>\n      <td>Cheated on, mistreated and stepped on, the wom...</td>\n      <td>...</td>\n      <td>1995-12-22</td>\n      <td>81452156.0</td>\n      <td>127.0</td>\n      <td>[{'iso_639_1': 'en', 'name': 'English'}]</td>\n      <td>Released</td>\n      <td>Friends are the people who let you be yourself...</td>\n      <td>Waiting to Exhale</td>\n      <td>False</td>\n      <td>6.1</td>\n      <td>34.0</td>\n    </tr>\n    <tr>\n      <th>4</th>\n      <td>False</td>\n      <td>{'id': 96871, 'name': 'Father of the Bride Col...</td>\n      <td>0</td>\n      <td>[{'id': 35, 'name': 'Comedy'}]</td>\n      <td>NaN</td>\n      <td>11862</td>\n      <td>tt0113041</td>\n      <td>en</td>\n      <td>Father of the Bride Part II</td>\n      <td>Just when George Banks has recovered from his ...</td>\n      <td>...</td>\n      <td>1995-02-10</td>\n      <td>76578911.0</td>\n      <td>106.0</td>\n      <td>[{'iso_639_1': 'en', 'name': 'English'}]</td>\n      <td>Released</td>\n      <td>Just When His World Is Back To Normal... He's ...</td>\n      <td>Father of the Bride Part II</td>\n      <td>False</td>\n      <td>5.7</td>\n      <td>173.0</td>\n    </tr>\n  </tbody>\n</table>\n<p>5 rows × 24 columns</p>\n</div>"
     },
     "execution_count": 332,
     "metadata": {},
     "output_type": "execute_result"
    }
   ],
   "source": [
    "movie_meta_df.head()"
   ],
   "metadata": {
    "collapsed": false
   }
  },
  {
   "cell_type": "code",
   "execution_count": 333,
   "outputs": [],
   "source": [
    "# dropping corrupted rows\n",
    "filtered_rows = movie_meta_df[movie_meta_df['vote_count'].isnull()].index\n",
    "movie_meta_df=movie_meta_df.drop(index=filtered_rows)\n",
    "\n",
    "movie_meta_df['id'] = movie_meta_df.id.astype('int')"
   ],
   "metadata": {
    "collapsed": false
   }
  },
  {
   "cell_type": "code",
   "execution_count": 334,
   "outputs": [],
   "source": [
    "# dropping adult rated movies\n",
    "filtered_rows = movie_meta_df[movie_meta_df['adult']=='True'].index\n",
    "movie_meta_df = movie_meta_df.drop(index=filtered_rows)\n",
    "\n",
    "# dropping adult column no longer needed\n",
    "movie_meta_df = movie_meta_df.drop(columns='adult')"
   ],
   "metadata": {
    "collapsed": false
   }
  },
  {
   "cell_type": "code",
   "execution_count": 335,
   "outputs": [],
   "source": [
    "# dropping movies that are not already Released\n",
    "filtered_rows = movie_meta_df[movie_meta_df['status']!='Released'].index\n",
    "movie_meta_df = movie_meta_df.drop(index=filtered_rows)\n",
    "\n",
    "# dropping status column no longer needed\n",
    "movie_meta_df = movie_meta_df.drop(columns='status')"
   ],
   "metadata": {
    "collapsed": false
   }
  },
  {
   "cell_type": "code",
   "execution_count": 336,
   "outputs": [
    {
     "data": {
      "text/plain": "array([False, True], dtype=object)"
     },
     "execution_count": 336,
     "metadata": {},
     "output_type": "execute_result"
    }
   ],
   "source": [
    "movie_meta_df['video'].unique()"
   ],
   "metadata": {
    "collapsed": false
   }
  },
  {
   "cell_type": "code",
   "execution_count": 337,
   "outputs": [],
   "source": [
    "# dropping movies that are not already Released\n",
    "filtered_rows = movie_meta_df[movie_meta_df['video']==True].index\n",
    "movie_meta_df = movie_meta_df.drop(index=filtered_rows)\n",
    "\n",
    "# dropping status column no longer needed\n",
    "movie_meta_df = movie_meta_df.drop(columns='video')"
   ],
   "metadata": {
    "collapsed": false
   }
  },
  {
   "cell_type": "code",
   "execution_count": 338,
   "outputs": [],
   "source": [
    "# removing appended imdb_id\n",
    "movie_meta_df['imdb_id'] = movie_meta_df['imdb_id'].astype(str).str.replace('tt0', '')\n",
    "movie_meta_df['imdb_id'] = movie_meta_df['imdb_id'].astype(str).str.replace('tt', '')\n",
    "movie_meta_df.rename(columns={'imdb_id':'imdbId'}, inplace=True)\n",
    "\n",
    "# merging meta and links df on imdb value\n",
    "filtered_rows = movie_meta_df[movie_meta_df['imdbId'] == 'nan'].index\n",
    "movie_meta_df = movie_meta_df.drop(index=filtered_rows)\n",
    "\n",
    "movie_meta_df['imdbId'] = movie_meta_df['imdbId'].astype('int64')\n",
    "movie_meta_df = pd.merge(movie_meta_df,links_df,on='imdbId')"
   ],
   "metadata": {
    "collapsed": false
   }
  },
  {
   "cell_type": "markdown",
   "source": [
    "# Cleaning JSON columns"
   ],
   "metadata": {
    "collapsed": false
   }
  },
  {
   "cell_type": "code",
   "execution_count": 339,
   "outputs": [],
   "source": [
    "# merging datasets for text mining\n",
    "dataframes = [keywords_df,credits_df,movie_meta_df]\n",
    "text_df = ft.reduce(lambda left, right: pd.merge(left, right, on='id'), dataframes)"
   ],
   "metadata": {
    "collapsed": false
   }
  },
  {
   "cell_type": "code",
   "execution_count": 340,
   "outputs": [],
   "source": [
    "movies_df = pd.DataFrame(text_df[['movieId', 'keywords','cast', 'crew', 'genres',\n",
    "                     'popularity', 'production_companies',\n",
    "                     'production_countries','title', 'revenue']])\n",
    "\n",
    "# dropping duplicates and missing values\n",
    "movies_df.drop_duplicates(keep=False,inplace=True)\n",
    "movies_df.dropna(inplace=True)"
   ],
   "metadata": {
    "collapsed": false
   }
  },
  {
   "cell_type": "code",
   "execution_count": 341,
   "outputs": [],
   "source": [
    "features = ['cast', 'crew', 'genres', 'keywords', 'production_companies', 'production_countries']\n",
    "\n",
    "movies_df = movies_df.dropna(subset=features)\n",
    "\n",
    "for feature in features:\n",
    "    movies_df[feature] = movies_df[feature].apply(literal_eval)"
   ],
   "metadata": {
    "collapsed": false
   }
  },
  {
   "cell_type": "code",
   "execution_count": 342,
   "outputs": [],
   "source": [
    "## function to get name of director from the crew field\n",
    "def get_director(x):\n",
    "    for i in x:\n",
    "        if i['job'] == 'Director':\n",
    "            return i['name']\n",
    "    return np.nan\n",
    "\n",
    "# get director\n",
    "movies_df['director'] = movies_df['crew'].apply(get_director)\n",
    "movies_df = movies_df.drop(columns='crew')"
   ],
   "metadata": {
    "collapsed": false
   }
  },
  {
   "cell_type": "code",
   "execution_count": 343,
   "outputs": [],
   "source": [
    "# Returns the list of top 3 elements for genres and keywords\n",
    "def get_list(x):\n",
    "    if isinstance(x, list):\n",
    "        names = [i['name'] for i in x]\n",
    "        #Check if more than 3 elements exist. If yes, return only first three. If no, return entire list.\n",
    "        if len(names) > 3:\n",
    "            names = names[:3]\n",
    "        return names\n",
    "\n",
    "    #Return empty list in case of missing/malformed data\n",
    "    return []"
   ],
   "metadata": {
    "collapsed": false
   }
  },
  {
   "cell_type": "code",
   "execution_count": 344,
   "outputs": [],
   "source": [
    "## function to get name of production company from the crew field\n",
    "def get_names(x):\n",
    "    for i in x:\n",
    "        return i['name']\n",
    "    return np.nan\n",
    "\n",
    "# get production company names\n",
    "movies_df['prod_company'] = movies_df['production_companies'].apply(get_names)\n",
    "movies_df['prod_country'] = movies_df['production_countries'].apply(get_names)\n",
    "\n",
    "movies_df = movies_df.drop(columns='production_companies')\n",
    "movies_df = movies_df.drop(columns='production_countries')"
   ],
   "metadata": {
    "collapsed": false
   }
  },
  {
   "cell_type": "code",
   "execution_count": 345,
   "outputs": [],
   "source": [
    "features = ['cast', 'keywords', 'genres']\n",
    "\n",
    "for feature in features:\n",
    "    movies_df[feature] = movies_df[feature].apply(get_list)"
   ],
   "metadata": {
    "collapsed": false
   }
  },
  {
   "cell_type": "code",
   "execution_count": 346,
   "outputs": [],
   "source": [
    "filtered_rows = movies_df[movies_df['prod_country'] != 'United States of America'].index\n",
    "movies_df = movies_df.drop(index=filtered_rows)\n",
    "movies_df = movies_df.drop(columns='prod_country')"
   ],
   "metadata": {
    "collapsed": false
   }
  },
  {
   "cell_type": "code",
   "execution_count": 347,
   "outputs": [
    {
     "data": {
      "text/plain": "   movieId                                           keywords  \\\n0        1                               [jealousy, toy, boy]   \n1        2  [board game, disappearance, based on children'...   \n2        3       [fishing, best friend, duringcreditsstinger]   \n3        4  [based on novel, interracial relationship, sin...   \n4        5                 [baby, midlife crisis, confidence]   \n\n                                                cast  \\\n0                [Tom Hanks, Tim Allen, Don Rickles]   \n1     [Robin Williams, Jonathan Hyde, Kirsten Dunst]   \n2         [Walter Matthau, Jack Lemmon, Ann-Margret]   \n3  [Whitney Houston, Angela Bassett, Loretta Devine]   \n4         [Steve Martin, Diane Keaton, Martin Short]   \n\n                         genres popularity                        title  \\\n0   [Animation, Comedy, Family]  21.946943                    Toy Story   \n1  [Adventure, Fantasy, Family]  17.015539                      Jumanji   \n2             [Romance, Comedy]    11.7129             Grumpier Old Men   \n3      [Comedy, Drama, Romance]   3.859495            Waiting to Exhale   \n4                      [Comedy]   8.387519  Father of the Bride Part II   \n\n       revenue         director                            prod_company  \n0  373554033.0    John Lasseter                 Pixar Animation Studios  \n1  262797249.0     Joe Johnston                        TriStar Pictures  \n2          0.0    Howard Deutch                            Warner Bros.  \n3   81452156.0  Forest Whitaker  Twentieth Century Fox Film Corporation  \n4   76578911.0    Charles Shyer                   Sandollar Productions  ",
      "text/html": "<div>\n<style scoped>\n    .dataframe tbody tr th:only-of-type {\n        vertical-align: middle;\n    }\n\n    .dataframe tbody tr th {\n        vertical-align: top;\n    }\n\n    .dataframe thead th {\n        text-align: right;\n    }\n</style>\n<table border=\"1\" class=\"dataframe\">\n  <thead>\n    <tr style=\"text-align: right;\">\n      <th></th>\n      <th>movieId</th>\n      <th>keywords</th>\n      <th>cast</th>\n      <th>genres</th>\n      <th>popularity</th>\n      <th>title</th>\n      <th>revenue</th>\n      <th>director</th>\n      <th>prod_company</th>\n    </tr>\n  </thead>\n  <tbody>\n    <tr>\n      <th>0</th>\n      <td>1</td>\n      <td>[jealousy, toy, boy]</td>\n      <td>[Tom Hanks, Tim Allen, Don Rickles]</td>\n      <td>[Animation, Comedy, Family]</td>\n      <td>21.946943</td>\n      <td>Toy Story</td>\n      <td>373554033.0</td>\n      <td>John Lasseter</td>\n      <td>Pixar Animation Studios</td>\n    </tr>\n    <tr>\n      <th>1</th>\n      <td>2</td>\n      <td>[board game, disappearance, based on children'...</td>\n      <td>[Robin Williams, Jonathan Hyde, Kirsten Dunst]</td>\n      <td>[Adventure, Fantasy, Family]</td>\n      <td>17.015539</td>\n      <td>Jumanji</td>\n      <td>262797249.0</td>\n      <td>Joe Johnston</td>\n      <td>TriStar Pictures</td>\n    </tr>\n    <tr>\n      <th>2</th>\n      <td>3</td>\n      <td>[fishing, best friend, duringcreditsstinger]</td>\n      <td>[Walter Matthau, Jack Lemmon, Ann-Margret]</td>\n      <td>[Romance, Comedy]</td>\n      <td>11.7129</td>\n      <td>Grumpier Old Men</td>\n      <td>0.0</td>\n      <td>Howard Deutch</td>\n      <td>Warner Bros.</td>\n    </tr>\n    <tr>\n      <th>3</th>\n      <td>4</td>\n      <td>[based on novel, interracial relationship, sin...</td>\n      <td>[Whitney Houston, Angela Bassett, Loretta Devine]</td>\n      <td>[Comedy, Drama, Romance]</td>\n      <td>3.859495</td>\n      <td>Waiting to Exhale</td>\n      <td>81452156.0</td>\n      <td>Forest Whitaker</td>\n      <td>Twentieth Century Fox Film Corporation</td>\n    </tr>\n    <tr>\n      <th>4</th>\n      <td>5</td>\n      <td>[baby, midlife crisis, confidence]</td>\n      <td>[Steve Martin, Diane Keaton, Martin Short]</td>\n      <td>[Comedy]</td>\n      <td>8.387519</td>\n      <td>Father of the Bride Part II</td>\n      <td>76578911.0</td>\n      <td>Charles Shyer</td>\n      <td>Sandollar Productions</td>\n    </tr>\n  </tbody>\n</table>\n</div>"
     },
     "execution_count": 347,
     "metadata": {},
     "output_type": "execute_result"
    }
   ],
   "source": [
    "movies_df.head()"
   ],
   "metadata": {
    "collapsed": false
   }
  },
  {
   "cell_type": "markdown",
   "source": [
    "# Use avg rating to fill for movies & prep modeling dataframe"
   ],
   "metadata": {
    "collapsed": false
   }
  },
  {
   "cell_type": "code",
   "execution_count": 348,
   "outputs": [],
   "source": [
    "# averaging ratings and merging ratings to final dataframe on movie Id\n",
    "ratings_df.drop(columns=['userId', 'timestamp'], inplace=True)\n",
    "avg_ratings = round(ratings_df.groupby('movieId').mean(),2)\n",
    "final_df = pd.merge(movies_df,avg_ratings,on='movieId')\n",
    "final_df.rename(columns={'rating':'avg_rating'}, inplace=True)\n",
    "\n",
    "# dropping null values\n",
    "final_df = final_df.dropna()\n",
    "\n",
    "# popularity clean up\n",
    "final_df['popularity'] = final_df['popularity'].astype('float')\n",
    "final_df['popularity'] = round(final_df['popularity'],2)\n",
    "\n",
    "# reducing revenue to millions to mitigate large values\n",
    "final_df['revenue_millions'] = round(final_df['revenue']/1000000, 3)\n",
    "final_df = final_df.drop(columns='revenue')"
   ],
   "metadata": {
    "collapsed": false
   }
  },
  {
   "cell_type": "markdown",
   "source": [
    "# Exporting dataframe for modeling"
   ],
   "metadata": {
    "collapsed": false
   }
  },
  {
   "cell_type": "code",
   "execution_count": 351,
   "outputs": [],
   "source": [
    "final_df.to_csv('../data/iac_dataset/modeling_data.csv',index=False)"
   ],
   "metadata": {
    "collapsed": false
   }
  }
 ],
 "metadata": {
  "kernelspec": {
   "display_name": "Python 3",
   "language": "python",
   "name": "python3"
  },
  "language_info": {
   "codemirror_mode": {
    "name": "ipython",
    "version": 2
   },
   "file_extension": ".py",
   "mimetype": "text/x-python",
   "name": "python",
   "nbconvert_exporter": "python",
   "pygments_lexer": "ipython2",
   "version": "2.7.6"
  }
 },
 "nbformat": 4,
 "nbformat_minor": 0
}
