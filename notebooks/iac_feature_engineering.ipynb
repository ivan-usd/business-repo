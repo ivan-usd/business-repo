{
 "cells": [
  {
   "cell_type": "code",
   "execution_count": 153,
   "metadata": {
    "collapsed": true
   },
   "outputs": [],
   "source": [
    "import pandas as pd\n",
    "import functools as ft\n",
    "import numpy as np\n",
    "import matplotlib.pylab as plt"
   ]
  },
  {
   "cell_type": "code",
   "execution_count": 154,
   "outputs": [],
   "source": [
    "FILEPATH = '../data/movie-set-data/'"
   ],
   "metadata": {
    "collapsed": false
   }
  },
  {
   "cell_type": "code",
   "execution_count": 155,
   "outputs": [
    {
     "name": "stderr",
     "output_type": "stream",
     "text": [
      "/Users/ivan/opt/anaconda3/lib/python3.9/site-packages/IPython/core/interactiveshell.py:3444: DtypeWarning: Columns (10) have mixed types.Specify dtype option on import or set low_memory=False.\n",
      "  exec(code_obj, self.user_global_ns, self.user_ns)\n"
     ]
    }
   ],
   "source": [
    "credits_df = pd.read_csv(f'{FILEPATH}credits.csv')\n",
    "keywords_df = pd.read_csv(f'{FILEPATH}keywords.csv')\n",
    "links_df = pd.read_csv(f'{FILEPATH}links.csv')\n",
    "links_small_df = pd.read_csv(f'{FILEPATH}links_small.csv')\n",
    "movie_meta_df = pd.read_csv(f'{FILEPATH}movies_metadata.csv')\n",
    "ratings_df = pd.read_csv(f'{FILEPATH}ratings.csv')\n",
    "ratings_small_df = pd.read_csv(f'{FILEPATH}ratings_small.csv')"
   ],
   "metadata": {
    "collapsed": false
   }
  },
  {
   "cell_type": "code",
   "execution_count": 156,
   "outputs": [],
   "source": [
    "# dropping corrupted rows\n",
    "filtered_rows = movie_meta_df[movie_meta_df['vote_count'].isnull()].index\n",
    "movie_meta_df=movie_meta_df.drop(index=filtered_rows)\n",
    "\n",
    "movie_meta_df['id'] = movie_meta_df.id.astype('int')"
   ],
   "metadata": {
    "collapsed": false
   }
  },
  {
   "cell_type": "code",
   "execution_count": 157,
   "outputs": [],
   "source": [
    "# dropping adult rated movies\n",
    "filtered_rows = movie_meta_df[movie_meta_df['adult']=='True'].index\n",
    "movie_meta_df = movie_meta_df.drop(index=filtered_rows)\n",
    "\n",
    "# dropping adult column no longer needed\n",
    "movie_meta_df = movie_meta_df.drop(columns='adult')"
   ],
   "metadata": {
    "collapsed": false
   }
  },
  {
   "cell_type": "markdown",
   "source": [
    "# Extracting most revelant text"
   ],
   "metadata": {
    "collapsed": false
   }
  },
  {
   "cell_type": "code",
   "execution_count": 160,
   "outputs": [],
   "source": [
    "# merging datasets for text mining\n",
    "dataframes = [keywords_df,credits_df,movie_meta_df]\n",
    "text_df = ft.reduce(lambda left, right: pd.merge(left, right, on='id'), dataframes)\n",
    "\n",
    "# dropping columns not needed\n",
    "text_df = text_df.drop(columns=['belongs_to_collection','homepage','imdb_id','poster_path','original_title'])"
   ],
   "metadata": {
    "collapsed": false
   }
  },
  {
   "cell_type": "code",
   "execution_count": 161,
   "outputs": [
    {
     "data": {
      "text/plain": "      id                                           keywords  \\\n0    862  [{'id': 931, 'name': 'jealousy'}, {'id': 4290,...   \n1   8844  [{'id': 10090, 'name': 'board game'}, {'id': 1...   \n2  15602  [{'id': 1495, 'name': 'fishing'}, {'id': 12392...   \n3  31357  [{'id': 818, 'name': 'based on novel'}, {'id':...   \n4  11862  [{'id': 1009, 'name': 'baby'}, {'id': 1599, 'n...   \n\n                                                cast  \\\n0  [{'cast_id': 14, 'character': 'Woody (voice)',...   \n1  [{'cast_id': 1, 'character': 'Alan Parrish', '...   \n2  [{'cast_id': 2, 'character': 'Max Goldman', 'c...   \n3  [{'cast_id': 1, 'character': \"Savannah 'Vannah...   \n4  [{'cast_id': 1, 'character': 'George Banks', '...   \n\n                                                crew    budget  \\\n0  [{'credit_id': '52fe4284c3a36847f8024f49', 'de...  30000000   \n1  [{'credit_id': '52fe44bfc3a36847f80a7cd1', 'de...  65000000   \n2  [{'credit_id': '52fe466a9251416c75077a89', 'de...         0   \n3  [{'credit_id': '52fe44779251416c91011acb', 'de...  16000000   \n4  [{'credit_id': '52fe44959251416c75039ed7', 'de...         0   \n\n                                              genres original_language  \\\n0  [{'id': 16, 'name': 'Animation'}, {'id': 35, '...                en   \n1  [{'id': 12, 'name': 'Adventure'}, {'id': 14, '...                en   \n2  [{'id': 10749, 'name': 'Romance'}, {'id': 35, ...                en   \n3  [{'id': 35, 'name': 'Comedy'}, {'id': 18, 'nam...                en   \n4                     [{'id': 35, 'name': 'Comedy'}]                en   \n\n                                            overview popularity  \\\n0  Led by Woody, Andy's toys live happily in his ...  21.946943   \n1  When siblings Judy and Peter discover an encha...  17.015539   \n2  A family wedding reignites the ancient feud be...    11.7129   \n3  Cheated on, mistreated and stepped on, the wom...   3.859495   \n4  Just when George Banks has recovered from his ...   8.387519   \n\n                                production_companies  ... release_date  \\\n0     [{'name': 'Pixar Animation Studios', 'id': 3}]  ...   1995-10-30   \n1  [{'name': 'TriStar Pictures', 'id': 559}, {'na...  ...   1995-12-15   \n2  [{'name': 'Warner Bros.', 'id': 6194}, {'name'...  ...   1995-12-22   \n3  [{'name': 'Twentieth Century Fox Film Corporat...  ...   1995-12-22   \n4  [{'name': 'Sandollar Productions', 'id': 5842}...  ...   1995-02-10   \n\n       revenue  runtime                                   spoken_languages  \\\n0  373554033.0     81.0           [{'iso_639_1': 'en', 'name': 'English'}]   \n1  262797249.0    104.0  [{'iso_639_1': 'en', 'name': 'English'}, {'iso...   \n2          0.0    101.0           [{'iso_639_1': 'en', 'name': 'English'}]   \n3   81452156.0    127.0           [{'iso_639_1': 'en', 'name': 'English'}]   \n4   76578911.0    106.0           [{'iso_639_1': 'en', 'name': 'English'}]   \n\n     status                                            tagline  \\\n0  Released                                                NaN   \n1  Released          Roll the dice and unleash the excitement!   \n2  Released  Still Yelling. Still Fighting. Still Ready for...   \n3  Released  Friends are the people who let you be yourself...   \n4  Released  Just When His World Is Back To Normal... He's ...   \n\n                         title  video vote_average  vote_count  \n0                    Toy Story  False          7.7      5415.0  \n1                      Jumanji  False          6.9      2413.0  \n2             Grumpier Old Men  False          6.5        92.0  \n3            Waiting to Exhale  False          6.1        34.0  \n4  Father of the Bride Part II  False          5.7       173.0  \n\n[5 rows x 21 columns]",
      "text/html": "<div>\n<style scoped>\n    .dataframe tbody tr th:only-of-type {\n        vertical-align: middle;\n    }\n\n    .dataframe tbody tr th {\n        vertical-align: top;\n    }\n\n    .dataframe thead th {\n        text-align: right;\n    }\n</style>\n<table border=\"1\" class=\"dataframe\">\n  <thead>\n    <tr style=\"text-align: right;\">\n      <th></th>\n      <th>id</th>\n      <th>keywords</th>\n      <th>cast</th>\n      <th>crew</th>\n      <th>budget</th>\n      <th>genres</th>\n      <th>original_language</th>\n      <th>overview</th>\n      <th>popularity</th>\n      <th>production_companies</th>\n      <th>...</th>\n      <th>release_date</th>\n      <th>revenue</th>\n      <th>runtime</th>\n      <th>spoken_languages</th>\n      <th>status</th>\n      <th>tagline</th>\n      <th>title</th>\n      <th>video</th>\n      <th>vote_average</th>\n      <th>vote_count</th>\n    </tr>\n  </thead>\n  <tbody>\n    <tr>\n      <th>0</th>\n      <td>862</td>\n      <td>[{'id': 931, 'name': 'jealousy'}, {'id': 4290,...</td>\n      <td>[{'cast_id': 14, 'character': 'Woody (voice)',...</td>\n      <td>[{'credit_id': '52fe4284c3a36847f8024f49', 'de...</td>\n      <td>30000000</td>\n      <td>[{'id': 16, 'name': 'Animation'}, {'id': 35, '...</td>\n      <td>en</td>\n      <td>Led by Woody, Andy's toys live happily in his ...</td>\n      <td>21.946943</td>\n      <td>[{'name': 'Pixar Animation Studios', 'id': 3}]</td>\n      <td>...</td>\n      <td>1995-10-30</td>\n      <td>373554033.0</td>\n      <td>81.0</td>\n      <td>[{'iso_639_1': 'en', 'name': 'English'}]</td>\n      <td>Released</td>\n      <td>NaN</td>\n      <td>Toy Story</td>\n      <td>False</td>\n      <td>7.7</td>\n      <td>5415.0</td>\n    </tr>\n    <tr>\n      <th>1</th>\n      <td>8844</td>\n      <td>[{'id': 10090, 'name': 'board game'}, {'id': 1...</td>\n      <td>[{'cast_id': 1, 'character': 'Alan Parrish', '...</td>\n      <td>[{'credit_id': '52fe44bfc3a36847f80a7cd1', 'de...</td>\n      <td>65000000</td>\n      <td>[{'id': 12, 'name': 'Adventure'}, {'id': 14, '...</td>\n      <td>en</td>\n      <td>When siblings Judy and Peter discover an encha...</td>\n      <td>17.015539</td>\n      <td>[{'name': 'TriStar Pictures', 'id': 559}, {'na...</td>\n      <td>...</td>\n      <td>1995-12-15</td>\n      <td>262797249.0</td>\n      <td>104.0</td>\n      <td>[{'iso_639_1': 'en', 'name': 'English'}, {'iso...</td>\n      <td>Released</td>\n      <td>Roll the dice and unleash the excitement!</td>\n      <td>Jumanji</td>\n      <td>False</td>\n      <td>6.9</td>\n      <td>2413.0</td>\n    </tr>\n    <tr>\n      <th>2</th>\n      <td>15602</td>\n      <td>[{'id': 1495, 'name': 'fishing'}, {'id': 12392...</td>\n      <td>[{'cast_id': 2, 'character': 'Max Goldman', 'c...</td>\n      <td>[{'credit_id': '52fe466a9251416c75077a89', 'de...</td>\n      <td>0</td>\n      <td>[{'id': 10749, 'name': 'Romance'}, {'id': 35, ...</td>\n      <td>en</td>\n      <td>A family wedding reignites the ancient feud be...</td>\n      <td>11.7129</td>\n      <td>[{'name': 'Warner Bros.', 'id': 6194}, {'name'...</td>\n      <td>...</td>\n      <td>1995-12-22</td>\n      <td>0.0</td>\n      <td>101.0</td>\n      <td>[{'iso_639_1': 'en', 'name': 'English'}]</td>\n      <td>Released</td>\n      <td>Still Yelling. Still Fighting. Still Ready for...</td>\n      <td>Grumpier Old Men</td>\n      <td>False</td>\n      <td>6.5</td>\n      <td>92.0</td>\n    </tr>\n    <tr>\n      <th>3</th>\n      <td>31357</td>\n      <td>[{'id': 818, 'name': 'based on novel'}, {'id':...</td>\n      <td>[{'cast_id': 1, 'character': \"Savannah 'Vannah...</td>\n      <td>[{'credit_id': '52fe44779251416c91011acb', 'de...</td>\n      <td>16000000</td>\n      <td>[{'id': 35, 'name': 'Comedy'}, {'id': 18, 'nam...</td>\n      <td>en</td>\n      <td>Cheated on, mistreated and stepped on, the wom...</td>\n      <td>3.859495</td>\n      <td>[{'name': 'Twentieth Century Fox Film Corporat...</td>\n      <td>...</td>\n      <td>1995-12-22</td>\n      <td>81452156.0</td>\n      <td>127.0</td>\n      <td>[{'iso_639_1': 'en', 'name': 'English'}]</td>\n      <td>Released</td>\n      <td>Friends are the people who let you be yourself...</td>\n      <td>Waiting to Exhale</td>\n      <td>False</td>\n      <td>6.1</td>\n      <td>34.0</td>\n    </tr>\n    <tr>\n      <th>4</th>\n      <td>11862</td>\n      <td>[{'id': 1009, 'name': 'baby'}, {'id': 1599, 'n...</td>\n      <td>[{'cast_id': 1, 'character': 'George Banks', '...</td>\n      <td>[{'credit_id': '52fe44959251416c75039ed7', 'de...</td>\n      <td>0</td>\n      <td>[{'id': 35, 'name': 'Comedy'}]</td>\n      <td>en</td>\n      <td>Just when George Banks has recovered from his ...</td>\n      <td>8.387519</td>\n      <td>[{'name': 'Sandollar Productions', 'id': 5842}...</td>\n      <td>...</td>\n      <td>1995-02-10</td>\n      <td>76578911.0</td>\n      <td>106.0</td>\n      <td>[{'iso_639_1': 'en', 'name': 'English'}]</td>\n      <td>Released</td>\n      <td>Just When His World Is Back To Normal... He's ...</td>\n      <td>Father of the Bride Part II</td>\n      <td>False</td>\n      <td>5.7</td>\n      <td>173.0</td>\n    </tr>\n  </tbody>\n</table>\n<p>5 rows × 21 columns</p>\n</div>"
     },
     "execution_count": 161,
     "metadata": {},
     "output_type": "execute_result"
    }
   ],
   "source": [
    "text_df.head()"
   ],
   "metadata": {
    "collapsed": false
   }
  },
  {
   "cell_type": "markdown",
   "source": [
    "# Use avg rating to fill for movies"
   ],
   "metadata": {
    "collapsed": false
   }
  },
  {
   "cell_type": "code",
   "execution_count": null,
   "outputs": [],
   "source": [
    "ratings_df.query('movieId == 862')['rating'].mean()"
   ],
   "metadata": {
    "collapsed": false
   }
  }
 ],
 "metadata": {
  "kernelspec": {
   "display_name": "Python 3",
   "language": "python",
   "name": "python3"
  },
  "language_info": {
   "codemirror_mode": {
    "name": "ipython",
    "version": 2
   },
   "file_extension": ".py",
   "mimetype": "text/x-python",
   "name": "python",
   "nbconvert_exporter": "python",
   "pygments_lexer": "ipython2",
   "version": "2.7.6"
  }
 },
 "nbformat": 4,
 "nbformat_minor": 0
}
