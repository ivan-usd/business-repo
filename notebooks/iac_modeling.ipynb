{
 "cells": [
  {
   "cell_type": "code",
   "execution_count": 59,
   "metadata": {
    "collapsed": true
   },
   "outputs": [],
   "source": [
    "import pandas as pd\n",
    "import numpy as np\n",
    "import matplotlib.pyplot as plt\n",
    "from ast import literal_eval\n",
    "from sklearn.model_selection import train_test_split\n",
    "from sklearn.neighbors import KNeighborsClassifier\n",
    "from sklearn.linear_model import LogisticRegression\n",
    "from sklearn.ensemble import RandomForestClassifier\n",
    "from sklearn.neural_network import MLPClassifier\n",
    "from sklearn.tree import DecisionTreeClassifier\n",
    "from sklearn.metrics import recall_score, precision_score\n",
    "from dmba import classificationSummary, liftChart"
   ]
  },
  {
   "cell_type": "code",
   "execution_count": 2,
   "outputs": [],
   "source": [
    "movies = pd.read_csv('../data/iac_dataset/modeling_data.csv')\n",
    "\n",
    "features = ['keywords', 'cast', 'genres']\n",
    "\n",
    "for feature in features:\n",
    "    movies[feature] = movies[feature].apply(literal_eval)"
   ],
   "metadata": {
    "collapsed": false
   }
  },
  {
   "cell_type": "markdown",
   "source": [
    "# Preprocessing prior to modeling"
   ],
   "metadata": {
    "collapsed": false
   }
  },
  {
   "cell_type": "code",
   "execution_count": 3,
   "outputs": [
    {
     "name": "stderr",
     "output_type": "stream",
     "text": [
      "/var/folders/ll/snp8v88x0dz1nl1l9yq19m680000gn/T/ipykernel_74674/453367950.py:1: FutureWarning: The default value of regex will change from True to False in a future version. In addition, single character regular expressions will *not* be treated as literal strings when regex=True.\n",
      "  movies['director'] = movies['director'].astype(str).str.replace('.', '')\n",
      "/var/folders/ll/snp8v88x0dz1nl1l9yq19m680000gn/T/ipykernel_74674/453367950.py:4: FutureWarning: The default value of regex will change from True to False in a future version. In addition, single character regular expressions will *not* be treated as literal strings when regex=True.\n",
      "  movies['prod_company'] = movies['prod_company'].astype(str).str.replace('.', '')\n"
     ]
    }
   ],
   "source": [
    "movies['director'] = movies['director'].astype(str).str.replace('.', '')\n",
    "movies['director'] = movies['director'].astype(str).str.replace(' ', '_')\n",
    "\n",
    "movies['prod_company'] = movies['prod_company'].astype(str).str.replace('.', '')\n",
    "movies['prod_company'] = movies['prod_company'].astype(str).str.replace(' ', '_')"
   ],
   "metadata": {
    "collapsed": false
   }
  },
  {
   "cell_type": "code",
   "execution_count": 4,
   "outputs": [],
   "source": [
    "movies['label'] = pd.cut(movies.avg_rating, bins=[0,3.4,5],labels=[0,1])"
   ],
   "metadata": {
    "collapsed": false
   }
  },
  {
   "cell_type": "code",
   "execution_count": 5,
   "outputs": [],
   "source": [
    "X = movies[['genres','cast','director','prod_company','popularity','revenue_millions']]\n",
    "y = movies[['avg_rating','label','title']]"
   ],
   "metadata": {
    "collapsed": false
   }
  },
  {
   "cell_type": "code",
   "execution_count": 6,
   "outputs": [],
   "source": [
    "# creating dummies\n",
    "genres_cat = X.genres.str.join('|').str.get_dummies().add_prefix('genres_')\n",
    "X = pd.concat([X, genres_cat], axis=1)\n",
    "X = X.drop(columns='genres')"
   ],
   "metadata": {
    "collapsed": false
   }
  },
  {
   "cell_type": "code",
   "execution_count": 7,
   "outputs": [],
   "source": [
    "# creating dummies\n",
    "cast_cat = X.cast.str.join('|').str.get_dummies().add_prefix('cast_')\n",
    "X = pd.concat([X, cast_cat], axis=1)\n",
    "X = X.drop(columns='cast')"
   ],
   "metadata": {
    "collapsed": false
   }
  },
  {
   "cell_type": "code",
   "execution_count": 8,
   "outputs": [],
   "source": [
    "keyword_cat = X.director.str.get_dummies().add_prefix('director_')\n",
    "X = pd.concat([X, keyword_cat], axis=1)\n",
    "X = X.drop(columns='director')"
   ],
   "metadata": {
    "collapsed": false
   }
  },
  {
   "cell_type": "code",
   "execution_count": 9,
   "outputs": [],
   "source": [
    "keyword_cat = X.prod_company.str.get_dummies().add_prefix('prod_company_')\n",
    "X = pd.concat([X, keyword_cat], axis=1)\n",
    "X = X.drop(columns='prod_company')"
   ],
   "metadata": {
    "collapsed": false
   }
  },
  {
   "cell_type": "code",
   "execution_count": 10,
   "outputs": [],
   "source": [
    "X_train, X_val, y_train, y_val = train_test_split(X, y,test_size=0.20, random_state = 2022)"
   ],
   "metadata": {
    "collapsed": false
   }
  },
  {
   "cell_type": "code",
   "execution_count": 11,
   "outputs": [
    {
     "name": "stdout",
     "output_type": "stream",
     "text": [
      "Confusion Matrix (Accuracy 0.7052)\n",
      "\n",
      "       Prediction\n",
      "Actual    0    1\n",
      "     0 1890  331\n",
      "     1  575  277\n",
      "precision: 0.4555921052631579\n",
      "recall: 0.32511737089201875\n"
     ]
    }
   ],
   "source": [
    "movie_knn = KNeighborsClassifier(n_neighbors=24, metric='cosine')\n",
    "movie_knn.fit(X_train, y_train['label'])\n",
    "\n",
    "y_pred = movie_knn.predict(X_val)\n",
    "\n",
    "# Comparing Results\n",
    "classificationSummary(y_val.label, y_pred)\n",
    "print(f'precision: {precision_score(y_val.label, y_pred, zero_division=0)}')\n",
    "print(f'recall: {recall_score(y_val.label, y_pred, zero_division=1)}')"
   ],
   "metadata": {
    "collapsed": false
   }
  },
  {
   "cell_type": "code",
   "execution_count": 12,
   "outputs": [
    {
     "name": "stdout",
     "output_type": "stream",
     "text": [
      "Confusion Matrix (Accuracy 0.7410)\n",
      "\n",
      "       Prediction\n",
      "Actual    0    1\n",
      "     0 1980  241\n",
      "     1  555  297\n",
      "precision: 0.5520446096654275\n",
      "recall: 0.3485915492957746\n"
     ]
    }
   ],
   "source": [
    "# Training Logistic Model\n",
    "movie_log = LogisticRegression( random_state=2020, max_iter=10000)\n",
    "movie_log.fit(X_train, y_train['label'])\n",
    "\n",
    "# Predicting using training set\n",
    "y_pred = movie_log.predict(X_val)\n",
    "\n",
    "# Comparing Results\n",
    "classificationSummary(y_val.label, y_pred)\n",
    "print(f'precision: {precision_score(y_val.label, y_pred, zero_division=0)}')\n",
    "print(f'recall: {recall_score(y_val.label, y_pred, zero_division=1)}')"
   ],
   "metadata": {
    "collapsed": false
   }
  },
  {
   "cell_type": "code",
   "execution_count": 20,
   "outputs": [
    {
     "name": "stdout",
     "output_type": "stream",
     "text": [
      "Confusion Matrix (Accuracy 0.7169)\n",
      "\n",
      "       Prediction\n",
      "Actual    0    1\n",
      "     0 1892  329\n",
      "     1  541  311\n",
      "precision: 0.4859375\n",
      "recall: 0.36502347417840375\n"
     ]
    }
   ],
   "source": [
    "movie_tree = DecisionTreeClassifier(random_state=2020)\n",
    "movie_tree.fit(X_train, y_train['label'])\n",
    "y_pred = movie_tree.predict(X_val)\n",
    "\n",
    "# Comparing Results\n",
    "classificationSummary(y_val.label, y_pred)\n",
    "print(f'precision: {precision_score(y_val.label, y_pred, zero_division=0)}')\n",
    "print(f'recall: {recall_score(y_val.label, y_pred, zero_division=1)}')"
   ],
   "metadata": {
    "collapsed": false
   }
  },
  {
   "cell_type": "code",
   "execution_count": 21,
   "outputs": [
    {
     "name": "stdout",
     "output_type": "stream",
     "text": [
      "Confusion Matrix (Accuracy 0.7589)\n",
      "\n",
      "       Prediction\n",
      "Actual    0    1\n",
      "     0 2143   78\n",
      "     1  663  189\n",
      "precision: 0.7078651685393258\n",
      "recall: 0.22183098591549297\n"
     ]
    }
   ],
   "source": [
    "movie_rf = RandomForestClassifier(random_state=2020)\n",
    "movie_rf.fit(X_train, y_train['label'])\n",
    "y_pred = movie_rf.predict(X_val)\n",
    "\n",
    "# Comparing Results\n",
    "classificationSummary(y_val.label, y_pred)\n",
    "print(f'precision: {precision_score(y_val.label, y_pred, zero_division=0)}')\n",
    "print(f'recall: {recall_score(y_val.label, y_pred, zero_division=1)}')"
   ],
   "metadata": {
    "collapsed": false
   }
  },
  {
   "cell_type": "code",
   "execution_count": 24,
   "outputs": [
    {
     "name": "stdout",
     "output_type": "stream",
     "text": [
      "Confusion Matrix (Accuracy 0.6830)\n",
      "\n",
      "       Prediction\n",
      "Actual    0    1\n",
      "     0 1727  494\n",
      "     1  480  372\n",
      "precision: 0.4295612009237875\n",
      "recall: 0.43661971830985913\n"
     ]
    }
   ],
   "source": [
    "movie_neural = MLPClassifier(random_state=1, max_iter=300)\n",
    "movie_neural.fit(X_train, y_train['label'])\n",
    "y_pred = movie_neural.predict(X_val)\n",
    "\n",
    "# Comparing Results\n",
    "classificationSummary(y_val.label, y_pred)\n",
    "print(f'precision: {precision_score(y_val.label, y_pred, zero_division=0)}')\n",
    "print(f'recall: {recall_score(y_val.label, y_pred, zero_division=1)}')"
   ],
   "metadata": {
    "collapsed": false
   }
  },
  {
   "cell_type": "markdown",
   "source": [
    "# Lift Chart using best model: Random Forest"
   ],
   "metadata": {
    "collapsed": false
   }
  },
  {
   "cell_type": "code",
   "execution_count": 64,
   "outputs": [
    {
     "data": {
      "text/plain": "<Figure size 432x288 with 1 Axes>",
      "image/png": "[encoded data removed]"
     },
     "metadata": {},
     "output_type": "display_data"
    }
   ],
   "source": [
    "rf_prob = movie_rf.predict_proba(X_val)[:,1]\n",
    "rf_prob = -np.sort(-rf_prob)\n",
    "\n",
    "ax = liftChart(pd.Series(rf_prob), labelBars=False)\n",
    "ax.set_ylabel('Lift')\n",
    "ax.set_title('Decile Lift Chart')\n",
    "plt.show()"
   ],
   "metadata": {
    "collapsed": false
   }
  },
  {
   "cell_type": "code",
   "execution_count": 82,
   "outputs": [
    {
     "name": "stdout",
     "output_type": "stream",
     "text": [
      "Top 10 percent would yield about 307 movies that can be added to the collection which would be 3 times as likely to be highly rated\n",
      "Top 20 percent would yield about 615 movies that can be added to the collection which would be 2 times as likely to be highly rated\n"
     ]
    }
   ],
   "source": [
    "print(f'Top 10 percent would yield about {round(len(rf_prob)*.10,)} movies that can be added to the collection which would be 3 times as likely to be highly rated')\n",
    "print(f'Top 20 percent would yield about {round(len(rf_prob)*.20,)} movies that can be added to the collection which would be 2 times as likely to be highly rated')"
   ],
   "metadata": {
    "collapsed": false
   }
  }
 ],
 "metadata": {
  "kernelspec": {
   "display_name": "Python 3",
   "language": "python",
   "name": "python3"
  },
  "language_info": {
   "codemirror_mode": {
    "name": "ipython",
    "version": 2
   },
   "file_extension": ".py",
   "mimetype": "text/x-python",
   "name": "python",
   "nbconvert_exporter": "python",
   "pygments_lexer": "ipython2",
   "version": "2.7.6"
  }
 },
 "nbformat": 4,
 "nbformat_minor": 0
}
